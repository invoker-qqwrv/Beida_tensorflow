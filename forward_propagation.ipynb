{
  "nbformat": 4,
  "nbformat_minor": 0,
  "metadata": {
    "colab": {
      "provenance": [],
      "authorship_tag": "ABX9TyOCg4VhO5hPdMOIogfn6HJ5",
      "include_colab_link": true
    },
    "kernelspec": {
      "name": "python3",
      "display_name": "Python 3"
    },
    "language_info": {
      "name": "python"
    }
  },
  "cells": [
    {
      "cell_type": "markdown",
      "metadata": {
        "id": "view-in-github",
        "colab_type": "text"
      },
      "source": [
        "<a href=\"https://colab.research.google.com/github/invoker-qqwrv/Beida_tensorflow/blob/main/forward_propagation.ipynb\" target=\"_parent\"><img src=\"https://colab.research.google.com/assets/colab-badge.svg\" alt=\"Open In Colab\"/></a>"
      ]
    },
    {
      "cell_type": "code",
      "execution_count": null,
      "metadata": {
        "id": "8L4oXjP862gp"
      },
      "outputs": [],
      "source": [
        "import tensorflow as tf\n",
        "\n",
        "# 定义模型的输入和输出\n",
        "x = tf.placeholder(tf.float32, shape=(None, 784))\n",
        "y = tf.placeholder(tf.float32, shape=(None, 10))\n",
        "\n",
        "# 定义模型的权重和偏差\n",
        "W = tf.Variable(tf.zeros([784, 10]))\n",
        "b = tf.Variable(tf.zeros([10]))\n",
        "\n",
        "# 定义模型的前向传播\n",
        "logits = tf.matmul(x, W) + b\n",
        "\n",
        "# 使用softmax计算预测概率\n",
        "predictions = tf.nn.softmax(logits)\n",
        "\n",
        "# 计算损失（交叉熵损失）\n",
        "loss = tf.reduce_mean(tf.nn.softmax_cross_entropy_with_logits(logits=logits, labels=y))\n",
        "\n",
        "# 选择优化器（SGD）并设定学习率\n",
        "optimizer = tf.train.GradientDescentOptimizer(learning_rate=0.5)\n",
        "\n",
        "# 定义优化器的目标：最小化损失\n",
        "train_op = optimizer.minimize(loss)\n",
        "\n",
        "# 初始化变量\n",
        "init = tf.global_variables_initializer()\n",
        "\n",
        "# 定义评估模型准确性的方法\n",
        "correct_prediction = tf.equal(tf.argmax(predictions, 1), tf.argmax(y, 1))\n",
        "accuracy = tf.reduce_mean(tf.cast(correct_prediction, tf.float32))\n",
        "\n",
        "# 开始训练\n",
        "with tf.Session() as sess:\n",
        "    sess.run(init)\n",
        "    for i in range(1000):\n",
        "        # 运行train_op，进行模型训练\n",
        "        sess.run(train_op, feed_dict={x: train_data, y: train_labels})\n",
        "\n",
        "        # 每100次迭代，计算一次模型的准确率\n",
        "        if i % 100 == 0:\n",
        "            acc = sess.run(accuracy, feed_dict={x: validation_data, y: validation_labels})\n",
        "            print(\"Step {}, Accuracy: {}\".format(i, acc))\n"
      ]
    }
  ]
}