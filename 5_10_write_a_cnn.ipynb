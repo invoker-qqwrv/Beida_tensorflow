{
  "nbformat": 4,
  "nbformat_minor": 0,
  "metadata": {
    "colab": {
      "provenance": [],
      "authorship_tag": "ABX9TyNIBT2NEI20ls+ioxJOOqs/",
      "include_colab_link": true
    },
    "kernelspec": {
      "name": "python3",
      "display_name": "Python 3"
    },
    "language_info": {
      "name": "python"
    }
  },
  "cells": [
    {
      "cell_type": "markdown",
      "metadata": {
        "id": "view-in-github",
        "colab_type": "text"
      },
      "source": [
        "<a href=\"https://colab.research.google.com/github/invoker-qqwrv/Beida_tensorflow/blob/main/5_10_write_a_cnn.ipynb\" target=\"_parent\"><img src=\"https://colab.research.google.com/assets/colab-badge.svg\" alt=\"Open In Colab\"/></a>"
      ]
    },
    {
      "cell_type": "code",
      "execution_count": null,
      "metadata": {
        "id": "lCprd1_qpeP-"
      },
      "outputs": [],
      "source": [
        "# 用卷积网络训练cifar10数据集，\n",
        "# 接下来搭建一个一层卷积，两层全连接的网络。\n",
        "# 使用6个5*5的卷积核，2*2的最大池化。全0填充，池化步长为2.过128个神经元的全连接层，dense 128\n",
        "# 因为输出是十个分类，所以最后过一个十个神经元的全连接层  dense 10\n",
        "# softmax使得输出符合概率分布"
      ]
    },
    {
      "cell_type": "code",
      "source": [
        "import tensorflow as tf\n",
        "import os\n",
        "import numpy as np\n",
        "from matplotlib import pyplot as plt\n",
        "from tensorflow.keras.layers import Conv2D, BatchNormalization, Activation, MaxPool2D, Dropout, Flatten, Dense\n",
        "from tensorflow.keras import Model\n",
        "\n",
        "np.set_printoptions(threshold=np.inf)#当数组元素比较多的时候，如果输出该数组，那么会出现省略号。解决方法：在程序前写这段代码\n",
        "\n",
        "cifar10 = tf.keras.datasets.cifar10\n",
        "(x_train, y_train), (x_test, y_test) = cifar10.load_data()\n",
        "x_train, x_test = x_train / 255.0, x_test / 255.0\n",
        "\n",
        "#因为网络相对复杂，所以用class搭建网络结构\n",
        "# 下面用init函数准备出搭建神经网络要用到的每一层结构\n",
        "#经典的神经网络只替换class这里的内容，其他不变\n",
        "class Baseline(Model):\n",
        "    def __init__(self):\n",
        "        super(Baseline, self).__init__()\n",
        "        self.c1 = Conv2D(filters=6, kernel_size=(5, 5), padding='same')  # C卷积层\n",
        "        self.b1 = BatchNormalization()                    #B BN层\n",
        "        self.a1 = Activation('relu')                     #A 激活层\n",
        "        self.p1 = MaxPool2D(pool_size=(2, 2), strides=2, padding='same')  #P 池化层\n",
        "        self.d1 = Dropout(0.2)                        #D dropout层\n",
        "\n",
        "        self.flatten = Flatten()\n",
        "        self.f1 = Dense(128, activation='relu')#送入128个神经元的全连接\n",
        "        self.d2 = Dropout(0.2)\n",
        "        self.f2 = Dense(10, activation='softmax')#送入十个神经元的全连接。用softmax使得输出概率化\n",
        "      \n",
        "#调用init函数里面搭建好的每层网络结构。从输入到输出过一次前向传播。返回推理结果y\n",
        "    def call(self, x):\n",
        "        x = self.c1(x)\n",
        "        x = self.b1(x)\n",
        "        x = self.a1(x)\n",
        "        x = self.p1(x)\n",
        "        x = self.d1(x)\n",
        "\n",
        "        x = self.flatten(x)\n",
        "        x = self.f1(x)\n",
        "        x = self.d2(x)\n",
        "        y = self.f2(x)\n",
        "        return y\n",
        "\n",
        "\n",
        "model = Baseline()\n",
        "\n",
        "model.compile(optimizer='adam',\n",
        "              loss=tf.keras.losses.SparseCategoricalCrossentropy(from_logits=False),\n",
        "              metrics=['sparse_categorical_accuracy'])\n",
        "\n",
        "checkpoint_save_path = \"./checkpoint/Baseline.ckpt\"\n",
        "if os.path.exists(checkpoint_save_path + '.index'):\n",
        "    print('-------------load the model-----------------')\n",
        "    model.load_weights(checkpoint_save_path)\n",
        "\n",
        "cp_callback = tf.keras.callbacks.ModelCheckpoint(filepath=checkpoint_save_path,\n",
        "                         save_weights_only=True,\n",
        "                         save_best_only=True)\n",
        "\n",
        "history = model.fit(x_train, y_train, batch_size=32, epochs=5, validation_data=(x_test, y_test), validation_freq=1,\n",
        "                    callbacks=[cp_callback])\n",
        "model.summary()\n",
        "\n",
        "# print(model.trainable_variables)\n",
        "file = open('./weights.txt', 'w')\n",
        "for v in model.trainable_variables:\n",
        "    file.write(str(v.name) + '\\n')\n",
        "    file.write(str(v.shape) + '\\n')\n",
        "    file.write(str(v.numpy()) + '\\n')\n",
        "file.close()\n",
        "\n",
        "###############################################    show   ###############################################\n",
        "\n",
        "# 显示训练集和验证集的acc和loss曲线\n",
        "acc = history.history['sparse_categorical_accuracy']\n",
        "val_acc = history.history['val_sparse_categorical_accuracy']\n",
        "loss = history.history['loss']\n",
        "val_loss = history.history['val_loss']\n",
        "\n",
        "plt.subplot(1, 2, 1)\n",
        "plt.plot(acc, label='Training Accuracy')\n",
        "plt.plot(val_acc, label='Validation Accuracy')\n",
        "plt.title('Training and Validation Accuracy')\n",
        "plt.legend()\n",
        "\n",
        "plt.subplot(1, 2, 2)\n",
        "plt.plot(loss, label='Training Loss')\n",
        "plt.plot(val_loss, label='Validation Loss')\n",
        "plt.title('Training and Validation Loss')\n",
        "plt.legend()\n",
        "plt.show()\n"
      ],
      "metadata": {
        "id": "Cv3uC0_Sqyea",
        "colab": {
          "base_uri": "https://localhost:8080/",
          "height": 1000
        },
        "outputId": "c3466eae-83d4-429c-d7ca-71dab962f2c4"
      },
      "execution_count": 1,
      "outputs": [
        {
          "output_type": "stream",
          "name": "stdout",
          "text": [
            "Downloading data from https://www.cs.toronto.edu/~kriz/cifar-10-python.tar.gz\n",
            "170498071/170498071 [==============================] - 2s 0us/step\n",
            "Epoch 1/5\n",
            "1563/1563 [==============================] - 39s 24ms/step - loss: 1.6451 - sparse_categorical_accuracy: 0.4041 - val_loss: 1.3801 - val_sparse_categorical_accuracy: 0.4986\n",
            "Epoch 2/5\n",
            "1563/1563 [==============================] - 39s 25ms/step - loss: 1.4001 - sparse_categorical_accuracy: 0.4954 - val_loss: 1.3078 - val_sparse_categorical_accuracy: 0.5338\n",
            "Epoch 3/5\n",
            "1563/1563 [==============================] - 39s 25ms/step - loss: 1.3247 - sparse_categorical_accuracy: 0.5247 - val_loss: 1.3066 - val_sparse_categorical_accuracy: 0.5374\n",
            "Epoch 4/5\n",
            "1563/1563 [==============================] - 40s 26ms/step - loss: 1.2788 - sparse_categorical_accuracy: 0.5399 - val_loss: 1.1807 - val_sparse_categorical_accuracy: 0.5817\n",
            "Epoch 5/5\n",
            "1563/1563 [==============================] - 38s 24ms/step - loss: 1.2402 - sparse_categorical_accuracy: 0.5570 - val_loss: 1.2076 - val_sparse_categorical_accuracy: 0.5693\n",
            "Model: \"baseline\"\n",
            "_________________________________________________________________\n",
            " Layer (type)                Output Shape              Param #   \n",
            "=================================================================\n",
            " conv2d (Conv2D)             multiple                  456       \n",
            "                                                                 \n",
            " batch_normalization (BatchN  multiple                 24        \n",
            " ormalization)                                                   \n",
            "                                                                 \n",
            " activation (Activation)     multiple                  0         \n",
            "                                                                 \n",
            " max_pooling2d (MaxPooling2D  multiple                 0         \n",
            " )                                                               \n",
            "                                                                 \n",
            " dropout (Dropout)           multiple                  0         \n",
            "                                                                 \n",
            " flatten (Flatten)           multiple                  0         \n",
            "                                                                 \n",
            " dense (Dense)               multiple                  196736    \n",
            "                                                                 \n",
            " dropout_1 (Dropout)         multiple                  0         \n",
            "                                                                 \n",
            " dense_1 (Dense)             multiple                  1290      \n",
            "                                                                 \n",
            "=================================================================\n",
            "Total params: 198,506\n",
            "Trainable params: 198,494\n",
            "Non-trainable params: 12\n",
            "_________________________________________________________________\n"
          ]
        },
        {
          "output_type": "display_data",
          "data": {
            "text/plain": [
              "<Figure size 432x288 with 2 Axes>"
            ],
            "image/png": "[encoded data removed]"
          },
          "metadata": {
            "needs_background": "light"
          }
        }
      ]
    },
    {
      "cell_type": "code",
      "source": [
        "from google.colab import drive\n",
        "drive.mount('/content/drive')"
      ],
      "metadata": {
        "id": "g78itABwnmQ7"
      },
      "execution_count": null,
      "outputs": []
    }
  ]
}