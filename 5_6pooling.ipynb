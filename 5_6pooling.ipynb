{
  "nbformat": 4,
  "nbformat_minor": 0,
  "metadata": {
    "colab": {
      "provenance": [],
      "authorship_tag": "ABX9TyPsXs3U23yNG0IyIJgG1Pzu",
      "include_colab_link": true
    },
    "kernelspec": {
      "name": "python3",
      "display_name": "Python 3"
    },
    "language_info": {
      "name": "python"
    }
  },
  "cells": [
    {
      "cell_type": "markdown",
      "metadata": {
        "id": "view-in-github",
        "colab_type": "text"
      },
      "source": [
        "<a href=\"https://colab.research.google.com/github/invoker-qqwrv/Beida_tensorflow/blob/main/5_6pooling.ipynb\" target=\"_parent\"><img src=\"https://colab.research.google.com/assets/colab-badge.svg\" alt=\"Open In Colab\"/></a>"
      ]
    },
    {
      "cell_type": "code",
      "execution_count": null,
      "metadata": {
        "id": "d1d7vZyyHycX"
      },
      "outputs": [],
      "source": [
        "# 池化用于减少特征数据量\n",
        "# 最大值池化可以提取图片纹理，均值池化可以保留背景特征。\n",
        "# 最大值池化：比如用一个2*2卷积核遍历矩阵，取原矩阵这四个值中的最大值。\n",
        "# 均值池化就是取原矩阵四个图里面四个数的均值、\n",
        "# 会变成四分之一大小\n",
        "# 池化是为了缓解计算压力，计算资源充足没必要池化。\n"
      ]
    },
    {
      "cell_type": "code",
      "source": [
        "#最大池化\n",
        "tf.keras.layers.MaxPool2D(pool_size=(2,2),#池化核的尺寸，正方形写核长整数，或者（核高h，核宽w）\n",
        "             strides=2,#池化步长，步长整数，或者（纵向步长h，横向步长w），默认为pool_size\n",
        "             padding='same')#全0填充same，不适用填充valid     "
      ],
      "metadata": {
        "id": "YI_ffJ8cJsDT"
      },
      "execution_count": null,
      "outputs": []
    },
    {
      "cell_type": "code",
      "source": [
        "#均值池化\n",
        "tf.keras.layers.AveragePool2D(pool_size=(2,2),#池化核的尺寸，正方形写核长整数，或者（核高h，核宽w）一半宽和高是一样的\n",
        "             strides=2,#池化步长，步长整数，或者（纵向步长h，横向步长w），默认为pool_size\n",
        "             padding='same')#全0填充same，不适用填充valid"
      ],
      "metadata": {
        "id": "S4tscEi0Pke6"
      },
      "execution_count": null,
      "outputs": []
    },
    {
      "cell_type": "code",
      "source": [
        "model=tf.keras.models.Sequential([Con2D(filter=6,kernel_size+(5,5),padding='same'),\n",
        "                BatchNormalization(),#添加BN层,在卷积层和激活层之间\n",
        "                Actication('relu'),\n",
        "                MaxPool2D(pool_size=(2,2),strides=2,padding='same'),\n",
        "                Dropout(0.2)dropout层\n",
        "                ])"
      ],
      "metadata": {
        "id": "pFbCBfI5P9t3"
      },
      "execution_count": null,
      "outputs": []
    }
  ]
}