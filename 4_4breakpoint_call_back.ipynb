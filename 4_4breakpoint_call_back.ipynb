{
  "nbformat": 4,
  "nbformat_minor": 0,
  "metadata": {
    "colab": {
      "provenance": [],
      "mount_file_id": "1V2lqBs7yEYzsOYwgCHFwo4ZIZCok17ft",
      "authorship_tag": "ABX9TyMdoa+BMs4UiO45+4//Wj9r",
      "include_colab_link": true
    },
    "kernelspec": {
      "name": "python3",
      "display_name": "Python 3"
    },
    "language_info": {
      "name": "python"
    }
  },
  "cells": [
    {
      "cell_type": "markdown",
      "metadata": {
        "id": "view-in-github",
        "colab_type": "text"
      },
      "source": [
        "<a href=\"https://colab.research.google.com/github/invoker-qqwrv/Beida_tensorflow/blob/main/4_4breakpoint_call_back.ipynb\" target=\"_parent\"><img src=\"https://colab.research.google.com/assets/colab-badge.svg\" alt=\"Open In Colab\"/></a>"
      ]
    },
    {
      "cell_type": "code",
      "execution_count": null,
      "metadata": {
        "id": "kcjyYCAf5H6V"
      },
      "outputs": [],
      "source": [
        "# 断点续训的意思是因为某些原因模型还没有训练完成就被中断，\n",
        "# 下一次训练可以在上一次训练的基础上继续训练而不用从头开始；这种方式对于你那些训练时间很长的模型来说非常友好。\n",
        "# 如果要进行断点续训，那么得满足两个条件：\n",
        "# （1）本地保存了模型训练中的快照；（即断点数据保存）\n",
        "# （2）可以通过读取快照恢复模型训练的现场环境。（断点数据恢复）\n",
        "# 这两个操作都用到了tensorflow中的train.Saver类。"
      ]
    },
    {
      "cell_type": "code",
      "source": [
        "import tensorflow as tf\n",
        "import os\n",
        "\n",
        "fashion=tf.keras.datasets.fashion_mnist\n",
        "(x_train,y_train),(x_test,y_test)=fashion.load_data()\n",
        "x_train,x_test=x_train/255.0,x_test/255.0\n",
        "model=tf.keras.models.Sequential([\n",
        "    tf.keras.layers.Flatten(),\n",
        "    tf.keras.layers.Dense(128, activation='relu'),\n",
        "    tf.keras.layers.Dense(10, activation='softmax')\n",
        "])\n",
        "model.compile(optimizer='adam',\n",
        "              loss=tf.keras.losses.SparseCategoricalCrossentropy(from_logits=False),\n",
        "              metrics=['sparse_categorical_accuracy'])\n",
        "\n",
        "checkpoint_save_path=\"content/drive/MyDrive/Colab Notebooks/fashion.ckpt\"#存放模型的路径和文件名\n",
        "# 因为生成ckpt文件的时候会同步生成索引表，所以要判断是不是有了索引表来判断是否已经保存过模型参数。\n",
        "# 如果有课索引表就可以调用load_weights函数读取模型参数\n",
        "if os.path.exists(checkpoint_save_path + '.index'):\n",
        "    print('-------------load the model-----------------')\n",
        "    model.load_weights(checkpoint_save_path)\n",
        "# 用tensorfolw的callback函数直接保存训练的模型参数\n",
        "cp_callback=tf.keras.callbacks.ModelCheckpoint(filepath=checkpoint_save_path,#文件存储路径\n",
        "                      save_weights_only=True,#只保留模型参数\n",
        "                      save_best_only=True)#只保留最新结果\n",
        "\n",
        "history = model.fit(x_train, y_train, batch_size=32, epochs=5, validation_data=(x_test, y_test), validation_freq=1,\n",
        "                    callbacks=[cp_callback])#加入callback选项return to history\n",
        "model.summary()"
      ],
      "metadata": {
        "colab": {
          "base_uri": "https://localhost:8080/"
        },
        "id": "Uqa2yj-19aXa",
        "outputId": "ff885c2d-ab5d-4941-b48a-4116fa010697"
      },
      "execution_count": null,
      "outputs": [
        {
          "output_type": "stream",
          "name": "stdout",
          "text": [
            "Downloading data from https://storage.googleapis.com/tensorflow/tf-keras-datasets/train-labels-idx1-ubyte.gz\n",
            "29515/29515 [==============================] - 0s 0us/step\n",
            "Downloading data from https://storage.googleapis.com/tensorflow/tf-keras-datasets/train-images-idx3-ubyte.gz\n",
            "26421880/26421880 [==============================] - 0s 0us/step\n",
            "Downloading data from https://storage.googleapis.com/tensorflow/tf-keras-datasets/t10k-labels-idx1-ubyte.gz\n",
            "5148/5148 [==============================] - 0s 0us/step\n",
            "Downloading data from https://storage.googleapis.com/tensorflow/tf-keras-datasets/t10k-images-idx3-ubyte.gz\n",
            "4422102/4422102 [==============================] - 0s 0us/step\n",
            "Epoch 1/5\n",
            "1875/1875 [==============================] - 4s 2ms/step - loss: 0.5014 - sparse_categorical_accuracy: 0.8249 - val_loss: 0.4208 - val_sparse_categorical_accuracy: 0.8485\n",
            "Epoch 2/5\n",
            "1875/1875 [==============================] - 4s 2ms/step - loss: 0.3724 - sparse_categorical_accuracy: 0.8656 - val_loss: 0.4000 - val_sparse_categorical_accuracy: 0.8551\n",
            "Epoch 3/5\n",
            "1875/1875 [==============================] - 4s 2ms/step - loss: 0.3354 - sparse_categorical_accuracy: 0.8779 - val_loss: 0.3719 - val_sparse_categorical_accuracy: 0.8670\n",
            "Epoch 4/5\n",
            "1875/1875 [==============================] - 4s 2ms/step - loss: 0.3104 - sparse_categorical_accuracy: 0.8862 - val_loss: 0.3566 - val_sparse_categorical_accuracy: 0.8720\n",
            "Epoch 5/5\n",
            "1875/1875 [==============================] - 4s 2ms/step - loss: 0.2935 - sparse_categorical_accuracy: 0.8919 - val_loss: 0.3667 - val_sparse_categorical_accuracy: 0.8660\n",
            "Model: \"sequential\"\n",
            "_________________________________________________________________\n",
            " Layer (type)                Output Shape              Param #   \n",
            "=================================================================\n",
            " flatten (Flatten)           (None, 784)               0         \n",
            "                                                                 \n",
            " dense (Dense)               (None, 128)               100480    \n",
            "                                                                 \n",
            " dense_1 (Dense)             (None, 10)                1290      \n",
            "                                                                 \n",
            "=================================================================\n",
            "Total params: 101,770\n",
            "Trainable params: 101,770\n",
            "Non-trainable params: 0\n",
            "_________________________________________________________________\n"
          ]
        }
      ]
    }
  ]
}