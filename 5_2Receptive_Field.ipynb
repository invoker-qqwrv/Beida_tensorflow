{
  "nbformat": 4,
  "nbformat_minor": 0,
  "metadata": {
    "colab": {
      "provenance": [],
      "authorship_tag": "ABX9TyN6lONxsAntBFM9+gKXhwBS",
      "include_colab_link": true
    },
    "kernelspec": {
      "name": "python3",
      "display_name": "Python 3"
    },
    "language_info": {
      "name": "python"
    }
  },
  "cells": [
    {
      "cell_type": "markdown",
      "metadata": {
        "id": "view-in-github",
        "colab_type": "text"
      },
      "source": [
        "<a href=\"https://colab.research.google.com/github/invoker-qqwrv/Beida_tensorflow/blob/main/5_2Receptive_Field.ipynb\" target=\"_parent\"><img src=\"https://colab.research.google.com/assets/colab-badge.svg\" alt=\"Open In Colab\"/></a>"
      ]
    },
    {
      "cell_type": "code",
      "execution_count": null,
      "metadata": {
        "id": "oKDLN5Cfa_7g"
      },
      "outputs": [],
      "source": [
        "# 感受野：卷积神经网络各个输出特征图中的每个像素点，在院士输入图片上映射区域的大小\n",
        "# 如果5*5的图片用3*3卷积核做卷积，会行成3*3的输出特征图、这个图映射到原图片是3*3的区域。因为可以水平滑三次，竖直滑三次。所以他的感受野是3\n",
        "# 如果这个3*3的图再用3*3的卷积核作用，会输出一个1*1的输出特征图。这个映射到原图5*5当中，可以上下滑动五次。所以感受野是5\n",
        "# 如果这个5*5的图用5*5的卷积核处理，会得到一个1*1的输出特征图。感受野也是5，所以一个5*5的卷积核和两次3*3的卷积核是等效的。\n",
        "# 这两种的选择要考虑承载的待训练参数和计算量\n",
        "# 对于两层3*3，待训练参数有15个。一个5*5的卷积核。参数量有25个\n",
        "# 对于一个输入图宽,高为x,卷积计算步长为1\n",
        "# 3*3的两次卷积计算的计算量为:9(x-2)²+9(x-4)²\n",
        "# 对于一个5*5的卷积核,需要的计算量为25(x-4)²\n",
        "# 所以当x＞10时候,两层3*3的卷积核比5*5的卷积核更好."
      ]
    }
  ]
}