{
  "nbformat": 4,
  "nbformat_minor": 0,
  "metadata": {
    "colab": {
      "provenance": [],
      "authorship_tag": "ABX9TyPLOwVNFLX8V8mglGPq3crb",
      "include_colab_link": true
    },
    "kernelspec": {
      "name": "python3",
      "display_name": "Python 3"
    },
    "language_info": {
      "name": "python"
    }
  },
  "cells": [
    {
      "cell_type": "markdown",
      "metadata": {
        "id": "view-in-github",
        "colab_type": "text"
      },
      "source": [
        "<a href=\"https://colab.research.google.com/github/invoker-qqwrv/Beida_tensorflow/blob/main/5_8_convolutional_neural_network.ipynb\" target=\"_parent\"><img src=\"https://colab.research.google.com/assets/colab-badge.svg\" alt=\"Open In Colab\"/></a>"
      ]
    },
    {
      "cell_type": "code",
      "execution_count": null,
      "metadata": {
        "id": "Vo1eCIVUTbtF"
      },
      "outputs": [],
      "source": [
        "# 卷积神经网络：借助卷积核提取特征之后，送入全连接网络。进行识别预测\n",
        "# 卷积就是特征提取器Convolution is the feature extractor\n",
        "# 主要模块：卷积（convolutional）-BN-activation-pooling-fc（full connection）\n",
        "# CBAPD"
      ]
    },
    {
      "cell_type": "code",
      "source": [
        "# CBAPD这就是编写卷积神经网络的八股\n",
        "model=tf.keras.models.Sequential([Con2D(filter=6,kernel_size+(5,5),padding='same'),#C\n",
        "                BatchNormalization(),#添加BN层,在卷积层和激活层之间#B\n",
        "                Actication('relu'),                #A\n",
        "                MaxPool2D(pool_size=(2,2),strides=2,padding='same'),#p\n",
        "                Dropout(0.2)dropout层               #D\n",
        "                ])"
      ],
      "metadata": {
        "id": "0tQ0FA57ULrn"
      },
      "execution_count": null,
      "outputs": []
    }
  ]
}