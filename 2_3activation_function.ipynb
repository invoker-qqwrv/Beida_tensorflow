{
  "nbformat": 4,
  "nbformat_minor": 0,
  "metadata": {
    "colab": {
      "provenance": [],
      "authorship_tag": "ABX9TyOY3tdIvJBjQsCADNX7LtAu",
      "include_colab_link": true
    },
    "kernelspec": {
      "name": "python3",
      "display_name": "Python 3"
    },
    "language_info": {
      "name": "python"
    }
  },
  "cells": [
    {
      "cell_type": "markdown",
      "metadata": {
        "id": "view-in-github",
        "colab_type": "text"
      },
      "source": [
        "<a href=\"https://colab.research.google.com/github/invoker-qqwrv/Beida_tensorflow/blob/main/2_3activation_function.ipynb\" target=\"_parent\"><img src=\"https://colab.research.google.com/assets/colab-badge.svg\" alt=\"Open In Colab\"/></a>"
      ]
    },
    {
      "cell_type": "code",
      "execution_count": null,
      "metadata": {
        "id": "Xu7rE71IQ38v"
      },
      "outputs": [],
      "source": [
        "# 线性函数的表达力不够\n",
        "# The activation function is to turn a linear function into a nonlinear function\n",
        "# 优秀的af，非线性，可微，单调（保证单层网络的损失函数时凸函数）\n",
        "# 激活函数输出为有限值时候，基于梯度的优化方法更稳定。\n",
        "# 输出为无限值时，要调小学习率\n",
        "# sigmoid梯度消失\n",
        "# tanh梯度消失\n",
        "# relu\n",
        "# leaky relu不会出现dead relu函数\n",
        "# 对于初学者而言：要首先选择relu函数，学习率设置小一点，输入特征标准化，也就是说让输入特征满足以0为均值\n",
        "# 1为标准差的正态分布。\n",
        "# 初始参数中心化，让随机生成的参数满足0为均值，根号下2除以当前层输入特征个数，为标准差的正态分布\n"
      ]
    }
  ]
}