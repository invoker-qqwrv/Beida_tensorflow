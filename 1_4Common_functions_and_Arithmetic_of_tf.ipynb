{
  "nbformat": 4,
  "nbformat_minor": 0,
  "metadata": {
    "colab": {
      "provenance": [],
      "authorship_tag": "ABX9TyO/RBgqYJy7eWV3R0gVfPJT",
      "include_colab_link": true
    },
    "kernelspec": {
      "name": "python3",
      "display_name": "Python 3"
    },
    "language_info": {
      "name": "python"
    }
  },
  "cells": [
    {
      "cell_type": "markdown",
      "metadata": {
        "id": "view-in-github",
        "colab_type": "text"
      },
      "source": [
        "<a href=\"https://colab.research.google.com/github/invoker-qqwrv/Beida_tensorflow/blob/main/1_4Common_functions_and_Arithmetic_of_tf.ipynb\" target=\"_parent\"><img src=\"https://colab.research.google.com/assets/colab-badge.svg\" alt=\"Open In Colab\"/></a>"
      ]
    },
    {
      "cell_type": "code",
      "execution_count": null,
      "metadata": {
        "id": "43M2l3ePvwmg"
      },
      "outputs": [],
      "source": [
        "# 强制tensor转换为该数据类型\n",
        "tf.cast(tensor名，dtype=)\n"
      ]
    },
    {
      "cell_type": "code",
      "source": [
        "# 计算tensor维度上的最小值\n",
        "tf.reduce_min(tensor名)\n",
        "# 计算tensor维度上的最大值\n",
        "tf.reduce_max(tensor名)"
      ],
      "metadata": {
        "id": "5Uj_d16BwEhB"
      },
      "execution_count": null,
      "outputs": []
    },
    {
      "cell_type": "code",
      "source": [
        "import tensorflow as tf\n",
        "a=tf.constant([1,2,3,4],dtype=tf.float32)\n",
        "print(a)\n",
        "b=tf.cast(a,tf.int32)\n",
        "print(b)\n",
        "print(tf.reduce_max(b))\n",
        "print(tf.reduce_min(b))"
      ],
      "metadata": {
        "colab": {
          "base_uri": "https://localhost:8080/"
        },
        "id": "Pv4zWsr9wQHf",
        "outputId": "81b33b21-b9c1-4371-805a-ae17423e5d68"
      },
      "execution_count": 10,
      "outputs": [
        {
          "output_type": "stream",
          "name": "stdout",
          "text": [
            "tf.Tensor([1. 2. 3. 4.], shape=(4,), dtype=float32)\n",
            "tf.Tensor([1 2 3 4], shape=(4,), dtype=int32)\n",
            "tf.Tensor(4, shape=(), dtype=int32)\n",
            "tf.Tensor(1, shape=(), dtype=int32)\n"
          ]
        }
      ]
    },
    {
      "cell_type": "code",
      "source": [
        "#axis=0 column       \n",
        "#axis=1 row\n",
        "#计算tensor沿着指定维度的均值\n",
        "# tf.reduce_mean(tensor名，axis=)\n",
        "# tf.reduce_sum(tensor,axis=)"
      ],
      "metadata": {
        "id": "Pj98FlUVyMqY"
      },
      "execution_count": null,
      "outputs": []
    },
    {
      "cell_type": "code",
      "source": [
        "x=tf.constant([[1,2,3],[4,5,6]])\n",
        "print(x)"
      ],
      "metadata": {
        "colab": {
          "base_uri": "https://localhost:8080/"
        },
        "id": "GiqXfUWg1M-s",
        "outputId": "ddc92e2a-b0aa-4706-d6dd-2a57debf752e"
      },
      "execution_count": 11,
      "outputs": [
        {
          "output_type": "stream",
          "name": "stdout",
          "text": [
            "tf.Tensor(\n",
            "[[1 2 3]\n",
            " [4 5 6]], shape=(2, 3), dtype=int32)\n"
          ]
        }
      ]
    },
    {
      "cell_type": "code",
      "source": [
        "print(tf.reduce_sum(x,axis=0))\n",
        "print(tf.reduce_mean(x))\n",
        "print(tf.reduce_mean(x,axis=0))"
      ],
      "metadata": {
        "colab": {
          "base_uri": "https://localhost:8080/"
        },
        "id": "zagAiEuS1Z4z",
        "outputId": "926b6c5f-5ce3-4adf-ff90-6d0a0987a065"
      },
      "execution_count": 14,
      "outputs": [
        {
          "output_type": "stream",
          "name": "stdout",
          "text": [
            "tf.Tensor([5 7 9], shape=(3,), dtype=int32)\n",
            "tf.Tensor(3, shape=(), dtype=int32)\n",
            "tf.Tensor([2 3 4], shape=(3,), dtype=int32)\n"
          ]
        }
      ]
    },
    {
      "cell_type": "code",
      "source": [
        "# tf.Variable()将变量标记为可训练，被标记的变量会在反向传播中记录梯度信息。\n",
        "# tf.Variable(初始值)\n",
        "w=tf.Variable(tf.random.normal([2,2],mean=0,stddev=1))\n",
        "print(w)"
      ],
      "metadata": {
        "colab": {
          "base_uri": "https://localhost:8080/"
        },
        "id": "Fwr_-15u7cra",
        "outputId": "2eccab42-5c86-4e13-ada6-f7b7127a3f6c"
      },
      "execution_count": 16,
      "outputs": [
        {
          "output_type": "stream",
          "name": "stdout",
          "text": [
            "<tf.Variable 'Variable:0' shape=(2, 2) dtype=float32, numpy=\n",
            "array([[ 1.292916  , -1.063325  ],\n",
            "       [ 0.1881849 , -0.21629612]], dtype=float32)>\n"
          ]
        }
      ]
    },
    {
      "cell_type": "code",
      "source": [
        "# tf常用数学运算\n",
        "# tf.add(tensor1,tensor2)\n",
        "# tf.substract(tensor1,tensor2)\n",
        "# tf.multiply(tensor1,tensor2)\n",
        "# tf.divide(tensor1,tensor2)\n",
        "# tf.square(tensor名)平方\n",
        "# tf.pow(tensor名，次方数)n次方\n",
        "# tf.sqrt(tensor名)计算tensor的开方\n",
        "# tf.matmul(矩阵1，矩阵2)"
      ],
      "metadata": {
        "id": "ZJXsZbX08DzT"
      },
      "execution_count": 18,
      "outputs": []
    },
    {
      "cell_type": "code",
      "source": [
        "\n",
        "# 神经网络在训练时一定是把输入特征和标签一起送进网络的\n",
        "# data=tf.data.Dataset.from_tensor_slices((输入特征，标签))\n",
        "# 这个可以传入tensor的第一维度，生成输入特征/标签对。构建数据集\n",
        "# 这个就是特征和标签配对的函数。\n",
        "features=tf.constant([12,34,54,6,6])\n",
        "labels=tf.constant([0,1,1,1,0])\n",
        "dataset=tf.data.Dataset.from_tensor_slices((features,labels))#注意这里是双括号\n",
        "print(dataset)\n",
        "for element in dataset:\n",
        "  print(element)"
      ],
      "metadata": {
        "colab": {
          "base_uri": "https://localhost:8080/"
        },
        "id": "OoetW6M2-h9b",
        "outputId": "ce86a69e-179f-432d-c4fa-ed6b07865402"
      },
      "execution_count": 22,
      "outputs": [
        {
          "output_type": "stream",
          "name": "stdout",
          "text": [
            "<TensorSliceDataset element_spec=(TensorSpec(shape=(), dtype=tf.int32, name=None), TensorSpec(shape=(), dtype=tf.int32, name=None))>\n",
            "(<tf.Tensor: shape=(), dtype=int32, numpy=12>, <tf.Tensor: shape=(), dtype=int32, numpy=0>)\n",
            "(<tf.Tensor: shape=(), dtype=int32, numpy=34>, <tf.Tensor: shape=(), dtype=int32, numpy=1>)\n",
            "(<tf.Tensor: shape=(), dtype=int32, numpy=54>, <tf.Tensor: shape=(), dtype=int32, numpy=1>)\n",
            "(<tf.Tensor: shape=(), dtype=int32, numpy=6>, <tf.Tensor: shape=(), dtype=int32, numpy=1>)\n",
            "(<tf.Tensor: shape=(), dtype=int32, numpy=6>, <tf.Tensor: shape=(), dtype=int32, numpy=0>)\n"
          ]
        }
      ]
    }
  ]
}