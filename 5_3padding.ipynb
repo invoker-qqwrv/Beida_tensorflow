{
  "nbformat": 4,
  "nbformat_minor": 0,
  "metadata": {
    "colab": {
      "provenance": [],
      "authorship_tag": "ABX9TyP3DYHqc0Di0AKjQ/vasj67",
      "include_colab_link": true
    },
    "kernelspec": {
      "name": "python3",
      "display_name": "Python 3"
    },
    "language_info": {
      "name": "python"
    }
  },
  "cells": [
    {
      "cell_type": "markdown",
      "metadata": {
        "id": "view-in-github",
        "colab_type": "text"
      },
      "source": [
        "<a href=\"https://colab.research.google.com/github/invoker-qqwrv/Beida_tensorflow/blob/main/5_3padding.ipynb\" target=\"_parent\"><img src=\"https://colab.research.google.com/assets/colab-badge.svg\" alt=\"Open In Colab\"/></a>"
      ]
    },
    {
      "cell_type": "code",
      "execution_count": null,
      "metadata": {
        "id": "wfYhgyohnIfL"
      },
      "outputs": [],
      "source": [
        "# 全0填充\n",
        "# 在输入特征图周围填充0，\n",
        "# 比如5*5的输入图在padding之后，再3*3卷积核，最后还是会得到5*5的输出。\n",
        "# 卷积输出特征图维度的计算公式：\n",
        "# 全0填充时候，输出特征图边长=输入特征图边长除以卷积核步长（向上取整）\n",
        "# 不全0填充：输出特征图边长=（）输入特征图边长-卷积核的边长+1）除以步长\n",
        "# padding=‘SAME'全0填充\n",
        "# padding=‘VALID'非全0填充"
      ]
    },
    {
      "cell_type": "code",
      "source": [],
      "metadata": {
        "id": "URTwcN-un3LS"
      },
      "execution_count": null,
      "outputs": []
    }
  ]
}