{
  "nbformat": 4,
  "nbformat_minor": 0,
  "metadata": {
    "colab": {
      "provenance": [],
      "authorship_tag": "ABX9TyMygg0pQjK6yF6jHejxfEjQ",
      "include_colab_link": true
    },
    "kernelspec": {
      "name": "python3",
      "display_name": "Python 3"
    },
    "language_info": {
      "name": "python"
    }
  },
  "cells": [
    {
      "cell_type": "markdown",
      "metadata": {
        "id": "view-in-github",
        "colab_type": "text"
      },
      "source": [
        "<a href=\"https://colab.research.google.com/github/invoker-qqwrv/Beida_tensorflow/blob/main/4_1Extension_of_NN_Capabilities.ipynb\" target=\"_parent\"><img src=\"https://colab.research.google.com/assets/colab-badge.svg\" alt=\"Open In Colab\"/></a>"
      ]
    },
    {
      "cell_type": "code",
      "execution_count": null,
      "metadata": {
        "id": "pI86LgSxyGQx"
      },
      "outputs": [],
      "source": [
        "# 接下来就是对六步法的扩展\n",
        "# 如果数据量过少，模型不足，generilization会弱。这时候就要数据增强。提高泛化\n",
        "# 在model.fit函数中增加了短点续训的功能。实时保存最优模型。获取最优参数\n",
        "# 然后又给了参数提取的代码。将代码存入文本\n",
        "# 给了acc/loss可视\n",
        "# 所以可以将八股扩展为一下内容:\n",
        "# 1.自制数据集，解决本领域应用\n",
        "# 2.数据增强，扩充数据集\n",
        "# 3.短点续训，存取模型\n",
        "# 4.参数提取，把参数存入文本\n",
        "# 5.acc/loss可视化，查看训练结果\n",
        "# 6.应用程序，给图识物"
      ]
    }
  ]
}