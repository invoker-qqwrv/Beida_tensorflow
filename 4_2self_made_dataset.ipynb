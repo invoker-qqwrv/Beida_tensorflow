{
  "nbformat": 4,
  "nbformat_minor": 0,
  "metadata": {
    "colab": {
      "provenance": [],
      "authorship_tag": "ABX9TyMC/I+zcqQMPDiolthavCDS",
      "include_colab_link": true
    },
    "kernelspec": {
      "name": "python3",
      "display_name": "Python 3"
    },
    "language_info": {
      "name": "python"
    }
  },
  "cells": [
    {
      "cell_type": "markdown",
      "metadata": {
        "id": "view-in-github",
        "colab_type": "text"
      },
      "source": [
        "<a href=\"https://colab.research.google.com/github/invoker-qqwrv/Beida_tensorflow/blob/main/4_2self_made_dataset.ipynb\" target=\"_parent\"><img src=\"https://colab.research.google.com/assets/colab-badge.svg\" alt=\"Open In Colab\"/></a>"
      ]
    },
    {
      "cell_type": "code",
      "execution_count": null,
      "metadata": {
        "id": "ni4PB1PhxcVC"
      },
      "outputs": [],
      "source": [
        "# 自制数据集\n",
        "# 我们的目标是把图片路径和标签文件输入generateds函数\n",
        "# 也就是def generateds(图片路径，标签文件)\n",
        "# 标签文件\n",
        "# value[0] value[1]\n",
        "# 0_5.jpg  5\n",
        "# 1_0.jpg  0\n",
        "# 2_4.jpg  4\n",
        "# 3_1.jpg  1\n",
        "# 4_9.jpg  9"
      ]
    },
    {
      "cell_type": "code",
      "source": [
        "def generateds(path, txt):\n",
        "    f = open(txt, 'r')#只读形式打开txt文件\n",
        "    contents = f.readlines()  # 按行读取\n",
        "    f.close()#关闭文件\n",
        "    x, y_ = [], []#建立空列表\n",
        "    for content in contents:#逐行读出\n",
        "        value = content.split()  # 以空格分开，存入数组\n",
        "        img_path = path + value[0]\n",
        "        img = Image.open(img_path)\n",
        "        img = np.array(img.convert('L'))\n",
        "        img = img / 255.\n",
        "        x.append(img)\n",
        "        y_.append(value[1])\n",
        "        print('loading : ' + content)\n",
        "\n",
        "    x = np.array(x)\n",
        "    y_ = np.array(y_)\n",
        "    y_ = y_.astype(np.int64)\n",
        "    return x, y_"
      ],
      "metadata": {
        "id": "e5pV4dg-kcu2"
      },
      "execution_count": null,
      "outputs": []
    }
  ]
}