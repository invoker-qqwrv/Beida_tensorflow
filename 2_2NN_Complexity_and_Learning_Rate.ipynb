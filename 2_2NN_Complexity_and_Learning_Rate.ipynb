{
  "nbformat": 4,
  "nbformat_minor": 0,
  "metadata": {
    "colab": {
      "provenance": [],
      "authorship_tag": "ABX9TyMEoyFRikZsA0ZmuRd2Q8vi",
      "include_colab_link": true
    },
    "kernelspec": {
      "name": "python3",
      "display_name": "Python 3"
    },
    "language_info": {
      "name": "python"
    }
  },
  "cells": [
    {
      "cell_type": "markdown",
      "metadata": {
        "id": "view-in-github",
        "colab_type": "text"
      },
      "source": [
        "<a href=\"https://colab.research.google.com/github/invoker-qqwrv/Beida_tensorflow/blob/main/2_2NN_Complexity_and_Learning_Rate.ipynb\" target=\"_parent\"><img src=\"https://colab.research.google.com/assets/colab-badge.svg\" alt=\"Open In Colab\"/></a>"
      ]
    },
    {
      "cell_type": "code",
      "execution_count": 3,
      "metadata": {
        "id": "KSn5H3bUIxz5"
      },
      "outputs": [],
      "source": [
        "# 指数衰减学习率=初始学习率*学习率衰减率（当前轮数/多少轮衰减一次）\n",
        "# 原理是先用较大的学习率，快速得到最优解，然后逐渐减小学习率\n",
        "import tensorflow as tf\n",
        "w=tf.Variable(tf.constant(5, dtype=tf.float32))\n",
        "\n",
        "epoch=40\n",
        "LR_BASE=0.2  # 最初学习率\n",
        "LR_DECAY=0.99  # 学习率衰减率\n",
        "LR_STEP=1  # 喂入多少轮BATCH_SIZE后，更新一次学习率"
      ]
    }
  ]
}