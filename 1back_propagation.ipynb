{
  "nbformat": 4,
  "nbformat_minor": 0,
  "metadata": {
    "colab": {
      "provenance": [],
      "authorship_tag": "ABX9TyNUxYt7yvd5TNfSYkPI+hjy",
      "include_colab_link": true
    },
    "kernelspec": {
      "name": "python3",
      "display_name": "Python 3"
    },
    "language_info": {
      "name": "python"
    }
  },
  "cells": [
    {
      "cell_type": "markdown",
      "metadata": {
        "id": "view-in-github",
        "colab_type": "text"
      },
      "source": [
        "<a href=\"https://colab.research.google.com/github/invoker-qqwrv/Beida_tensorflow/blob/main/1back_propagation.ipynb\" target=\"_parent\"><img src=\"https://colab.research.google.com/assets/colab-badge.svg\" alt=\"Open In Colab\"/></a>"
      ]
    },
    {
      "cell_type": "code",
      "source": [
        "import tensorflow as tf\n",
        "w = tf.Variable(tf.constant(5,dtype=tf.float32))\n",
        "#参数w的随机初始值为5，这里V要大写，tf.Variable()用于生成一个初始值为initial-value的变量；必须指定初始化值。\n",
        "# tf.constant创建的是常数，tf. Variable创建的是变量。变量属于可训练参数，在训练过程中其值会持续变化，也可以人工重新赋值，而常数的值自创建起就无法改变。\n",
        "\n",
        "# tf.float16：16位浮点数。 tf.float32：32位浮点数。 tf.float64：64位浮点数。\n",
        "lr = 0.2\n",
        "epochs = 40\n",
        "for epochs in range(epochs):#定义顶层循环，表示对数据集循环epochs次，\n",
        "  with tf.GradientTape() as tape:#with结构搭配grads 表示梯度计算过程\n",
        "  # tf. GradientTape() 是一个自动求导的记录器。 只要进入了 with tf. GradientTape() as tape 的上下文环境，则在该环境中计算步骤都会被自动记录。\n",
        "      loss=tf.square(w+1)\n",
        "  grads=tape.gradient(loss,w)#告知对谁求导\n",
        "  w.assign_sub(lr * grads)  # .assign_sub 对变量做自减 即：w -= lr*grads 即 w = w - lr*grads\n",
        "  print(\"After %s epoch,w is %f,loss is %f\" % (epochs, w.numpy(), loss))\n"
      ],
      "metadata": {
        "id": "_FO2GZanEL05",
        "colab": {
          "base_uri": "https://localhost:8080/"
        },
        "outputId": "1a0dfcfb-f47b-4a5a-d110-3e9a16e7d8a8"
      },
      "execution_count": 13,
      "outputs": [
        {
          "output_type": "stream",
          "name": "stdout",
          "text": [
            "After 0 epoch,w is 2.600000,loss is 36.000000\n",
            "After 1 epoch,w is 1.160000,loss is 12.959999\n",
            "After 2 epoch,w is 0.296000,loss is 4.665599\n",
            "After 3 epoch,w is -0.222400,loss is 1.679616\n",
            "After 4 epoch,w is -0.533440,loss is 0.604662\n",
            "After 5 epoch,w is -0.720064,loss is 0.217678\n",
            "After 6 epoch,w is -0.832038,loss is 0.078364\n",
            "After 7 epoch,w is -0.899223,loss is 0.028211\n",
            "After 8 epoch,w is -0.939534,loss is 0.010156\n",
            "After 9 epoch,w is -0.963720,loss is 0.003656\n",
            "After 10 epoch,w is -0.978232,loss is 0.001316\n",
            "After 11 epoch,w is -0.986939,loss is 0.000474\n",
            "After 12 epoch,w is -0.992164,loss is 0.000171\n",
            "After 13 epoch,w is -0.995298,loss is 0.000061\n",
            "After 14 epoch,w is -0.997179,loss is 0.000022\n",
            "After 15 epoch,w is -0.998307,loss is 0.000008\n",
            "After 16 epoch,w is -0.998984,loss is 0.000003\n",
            "After 17 epoch,w is -0.999391,loss is 0.000001\n",
            "After 18 epoch,w is -0.999634,loss is 0.000000\n",
            "After 19 epoch,w is -0.999781,loss is 0.000000\n",
            "After 20 epoch,w is -0.999868,loss is 0.000000\n",
            "After 21 epoch,w is -0.999921,loss is 0.000000\n",
            "After 22 epoch,w is -0.999953,loss is 0.000000\n",
            "After 23 epoch,w is -0.999972,loss is 0.000000\n",
            "After 24 epoch,w is -0.999983,loss is 0.000000\n",
            "After 25 epoch,w is -0.999990,loss is 0.000000\n",
            "After 26 epoch,w is -0.999994,loss is 0.000000\n",
            "After 27 epoch,w is -0.999996,loss is 0.000000\n",
            "After 28 epoch,w is -0.999998,loss is 0.000000\n",
            "After 29 epoch,w is -0.999999,loss is 0.000000\n",
            "After 30 epoch,w is -0.999999,loss is 0.000000\n",
            "After 31 epoch,w is -1.000000,loss is 0.000000\n",
            "After 32 epoch,w is -1.000000,loss is 0.000000\n",
            "After 33 epoch,w is -1.000000,loss is 0.000000\n",
            "After 34 epoch,w is -1.000000,loss is 0.000000\n",
            "After 35 epoch,w is -1.000000,loss is 0.000000\n",
            "After 36 epoch,w is -1.000000,loss is 0.000000\n",
            "After 37 epoch,w is -1.000000,loss is 0.000000\n",
            "After 38 epoch,w is -1.000000,loss is 0.000000\n",
            "After 39 epoch,w is -1.000000,loss is 0.000000\n"
          ]
        }
      ]
    }
  ]
}