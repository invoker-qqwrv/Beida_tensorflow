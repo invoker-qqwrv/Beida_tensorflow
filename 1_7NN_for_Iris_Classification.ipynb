{
  "nbformat": 4,
  "nbformat_minor": 0,
  "metadata": {
    "colab": {
      "provenance": [],
      "authorship_tag": "ABX9TyMOrR9WM2oGx1ndZRbeP7Xs",
      "include_colab_link": true
    },
    "kernelspec": {
      "name": "python3",
      "display_name": "Python 3"
    },
    "language_info": {
      "name": "python"
    }
  },
  "cells": [
    {
      "cell_type": "markdown",
      "metadata": {
        "id": "view-in-github",
        "colab_type": "text"
      },
      "source": [
        "<a href=\"https://colab.research.google.com/github/invoker-qqwrv/Beida_tensorflow/blob/main/1_7NN_for_Iris_Classification.ipynb\" target=\"_parent\"><img src=\"https://colab.research.google.com/assets/colab-badge.svg\" alt=\"Open In Colab\"/></a>"
      ]
    },
    {
      "cell_type": "code",
      "execution_count": null,
      "metadata": {
        "id": "kLjR0Ltj92ES"
      },
      "outputs": [],
      "source": [
        "# 流程：1.准备数据：数据集读入，数据集乱序，生成训练集和测试集（x_train,y_train,x_test,y_test），最后配对（输入特征，标签），每次读入一小撮\n",
        "# 2.搭建网络，定义所有可训练参数\n",
        "# 3.参数优化，嵌套循环迭代。with语句更新参数。显示当前loss\n",
        "# 4.测试效果。计算当前参数前后传播的准确率，显示当前acc\n",
        "# 5.acc/loss可视化"
      ]
    },
    {
      "cell_type": "code",
      "source": [
        "# 1.数据集读入\n",
        "from sklearn import datasets\n",
        "from pandas import DataFrame\n",
        "import pandas as pd\n",
        "import numpy as np\n",
        "import tensorflow as tf\n",
        "\n",
        "\n",
        "\n",
        "x_data=datasets.load_iris().data## all features in datasets\n",
        "y_data=datasets.load_iris().target#all labels of the datasets"
      ],
      "metadata": {
        "id": "rZ8gBsRIAqHr"
      },
      "execution_count": 7,
      "outputs": []
    },
    {
      "cell_type": "code",
      "source": [
        "# 数据集乱序\n",
        "np.random.seed(116)#因为选择相同的随机数种子，所以标签和特征仍然一一对应\n",
        "np.random.shuffle(x_data)#打乱顺序\n",
        "np.random.seed(116)\n",
        "np.random.shuffle(y_data)\n",
        "tf.random.set_seed(116)#设置全局的随机种子\n"
      ],
      "metadata": {
        "id": "bkr-hyhNA3QS"
      },
      "execution_count": 9,
      "outputs": []
    },
    {
      "cell_type": "code",
      "source": [
        "#区分训练集和测试集\n",
        "x_train=x_data[:-30]#一共150个数据，取前一百二十个为训练集\n",
        "y_train=y_data[:-30]\n",
        "x_test=x_data[-30:]\n",
        "y_test=y_data[-30:]"
      ],
      "metadata": {
        "id": "P8z_glNHBUIf"
      },
      "execution_count": 10,
      "outputs": []
    },
    {
      "cell_type": "code",
      "source": [
        "#features和labels打包，每次喂入一小撮32个\n"
      ],
      "metadata": {
        "id": "xLWz7Ey4EQlv"
      },
      "execution_count": null,
      "outputs": []
    }
  ]
}