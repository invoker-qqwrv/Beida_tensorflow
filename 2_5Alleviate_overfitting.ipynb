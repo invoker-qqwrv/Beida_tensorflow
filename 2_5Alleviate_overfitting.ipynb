{
  "nbformat": 4,
  "nbformat_minor": 0,
  "metadata": {
    "colab": {
      "provenance": [],
      "mount_file_id": "1ayxvsUm1rFx5XwnmwLeo6zvyyobb-V3X",
      "authorship_tag": "ABX9TyOBI2sObDjl1pTzL9lTluwE",
      "include_colab_link": true
    },
    "kernelspec": {
      "name": "python3",
      "display_name": "Python 3"
    },
    "language_info": {
      "name": "python"
    },
    "accelerator": "GPU",
    "gpuClass": "standard"
  },
  "cells": [
    {
      "cell_type": "markdown",
      "metadata": {
        "id": "view-in-github",
        "colab_type": "text"
      },
      "source": [
        "<a href=\"https://colab.research.google.com/github/invoker-qqwrv/Beida_tensorflow/blob/main/2_5Alleviate_overfitting.ipynb\" target=\"_parent\"><img src=\"https://colab.research.google.com/assets/colab-badge.svg\" alt=\"Open In Colab\"/></a>"
      ]
    },
    {
      "cell_type": "code",
      "execution_count": 2,
      "metadata": {
        "id": "oiYuqdlKj5WK",
        "colab": {
          "base_uri": "https://localhost:8080/"
        },
        "outputId": "e007df9a-a1de-418c-abff-ae1b6a0be716"
      },
      "outputs": [
        {
          "output_type": "stream",
          "name": "stdout",
          "text": [
            "epoch: 0 loss: 1.6047358512878418\n",
            "epoch: 20 loss: 0.4631880223751068\n",
            "epoch: 40 loss: 0.3710230588912964\n",
            "epoch: 60 loss: 0.3251398205757141\n",
            "epoch: 80 loss: 0.29180818796157837\n",
            "epoch: 100 loss: 0.26346927881240845\n",
            "epoch: 120 loss: 0.23870381712913513\n",
            "epoch: 140 loss: 0.21698442101478577\n",
            "epoch: 160 loss: 0.19784307479858398\n",
            "epoch: 180 loss: 0.18109536170959473\n",
            "epoch: 200 loss: 0.16643324494361877\n",
            "epoch: 220 loss: 0.1535884141921997\n",
            "epoch: 240 loss: 0.14230754971504211\n",
            "epoch: 260 loss: 0.13244639337062836\n",
            "epoch: 280 loss: 0.12395074218511581\n",
            "epoch: 300 loss: 0.11676717549562454\n",
            "epoch: 320 loss: 0.11062131077051163\n",
            "epoch: 340 loss: 0.1053885668516159\n",
            "epoch: 360 loss: 0.10093284398317337\n",
            "epoch: 380 loss: 0.09706989675760269\n"
          ]
        }
      ],
      "source": [
        "# 正则化缓解过拟合。在损失函数中引入模型复杂度指标，给w加权值，弱化数据的噪声\n",
        "# loss=loss（y与y_）+regularizer*loss（w）\n",
        "# L1正则化，大概率使很多参数变为0，所以该方法可以通过稀疏参数，即减少参数的数量，降低复杂度\n",
        "# L2正则化，使参数接近0但不等于0.所以该参数可以通过减小参数值的大小降低复杂度。\n",
        "import tensorflow as tf\n",
        "import numpy as np\n",
        "import pandas as pd\n",
        "from matplotlib import pyplot as plt\n",
        "#读取数据，生成x_train和y_train\n",
        "# 读入数据/标签生成x_trainy_train\n",
        "df=pd.read_csv('drive/MyDrive/Colab Notebooks/dot.csv')#这里注意大小写。并且要确保colab链接了drive\n",
        "df.head()\n",
        "x_data=np.array(df[['x1','x2']])\n",
        "y_data=np.array(df['y_c'])\n",
        "\n",
        "x_train=x_data\n",
        "y_train=y_data.reshape(-1,1)#只想让y_train变成一列。行数是多少不知道\n",
        "# https://blog.csdn.net/wld914674505/article/details/80460042 关于reshape函数的讲解\n",
        "Y_c=[['red' if y else 'blue'] for y in y_train]\n",
        "\n",
        "# 转换x的数据类型，否则后面矩阵相乘时会因数据类型问题报错\n",
        "x_train=tf.cast(x_train,tf.float32)\n",
        "y_train=tf.cast(y_train,tf.float32)\n",
        "\n",
        "# from_tensor_slices函数切分传入的张量的第一个维度，生成相应的数据集，使输入特征和标签值一一对应\n",
        "train_db= tf.data.Dataset.from_tensor_slices((x_train,y_train)).batch(32)\n",
        "# 生成神经网络的参数，输入层为4个神经元，隐藏层为32个神经元，2层隐藏层，输出层为3个神经元\n",
        "# 用tf.Variable()保证参数可训练\n",
        "w1=tf.Variable(tf.random.normal([2,11]), dtype=tf.float32)#第一层网络输出是11个神经元\n",
        "b1=tf.Variable(tf.constant(0.01,shape=[11]))\n",
        "\n",
        "w2=tf.Variable(tf.random.normal([11,1]),dtype=tf.float32)\n",
        "b2=tf.Variable(tf.constant(0.01,shape=[1]))\n",
        "lr=0.01# 学习率为\n",
        "epoch=400 # 循环轮数\n",
        "for epoch in range(epoch):\n",
        "    for step, (x_train, y_train) in enumerate(train_db):\n",
        "        with tf.GradientTape() as tape:  # 记录梯度信息\n",
        "\n",
        "            h1 = tf.matmul(x_train, w1) + b1  # 记录神经网络乘加运算\n",
        "            h1 = tf.nn.relu(h1)\n",
        "            y = tf.matmul(h1, w2) + b2\n",
        "\n",
        "            # 采用均方误差损失函数mse = mean(sum(y-out)^2)\n",
        "            loss_mse = tf.reduce_mean(tf.square(y_train - y))\n",
        "            # 添加l2正则化\n",
        "            loss_regularization = []\n",
        "            # tf.nn.l2_loss(w)=sum(w ** 2) / 2\n",
        "            loss_regularization.append(tf.nn.l2_loss(w1))\n",
        "            loss_regularization.append(tf.nn.l2_loss(w2))\n",
        "            # 求和\n",
        "            # 例：x=tf.constant(([1,1,1],[1,1,1]))\n",
        "            #   tf.reduce_sum(x)\n",
        "            # >>>6\n",
        "            # loss_regularization = tf.reduce_sum(tf.stack(loss_regularization))\n",
        "            loss_regularization = tf.reduce_sum(loss_regularization)\n",
        "            loss = loss_mse + 0.03 * loss_regularization #REGULARIZER = 0.03\n",
        "\n",
        "        # 计算loss对各个参数的梯度\n",
        "        variables = [w1, b1, w2, b2]\n",
        "        grads = tape.gradient(loss, variables)\n",
        "\n",
        "        # 实现梯度更新\n",
        "        # w1 = w1 - lr * w1_grad\n",
        "        w1.assign_sub(lr * grads[0])\n",
        "        b1.assign_sub(lr * grads[1])\n",
        "        w2.assign_sub(lr * grads[2])\n",
        "        b2.assign_sub(lr * grads[3])\n",
        "\n",
        "    # 每200个epoch，打印loss信息\n",
        "    if epoch % 20 == 0:\n",
        "        print('epoch:', epoch, 'loss:', float(loss))\n",
        "\n",
        "    "
      ]
    },
    {
      "cell_type": "code",
      "source": [
        "# 预测部分\n",
        "print(\"*******predict*******\")\n",
        "# xx在-3到3之间以步长为0.01，yy在-3到3之间以步长0.01,生成间隔数值点\n",
        "xx, yy = np.mgrid[-3:3:.1, -3:3:.1]\n",
        "# 将xx, yy拉直，并合并配对为二维张量，生成二维坐标点\n",
        "grid = np.c_[xx.ravel(), yy.ravel()]\n",
        "grid = tf.cast(grid, tf.float32)\n",
        "# 将网格坐标点喂入神经网络，进行预测，probs为输出\n",
        "probs = []\n",
        "for x_predict in grid:\n",
        "    # 使用训练好的参数进行预测\n",
        "    h1 = tf.matmul([x_predict], w1) + b1\n",
        "    h1 = tf.nn.relu(h1)\n",
        "    y = tf.matmul(h1, w2) + b2  # y为预测结果\n",
        "    probs.append(y)\n",
        "\n",
        "# 取第0列给x1，取第1列给x2\n",
        "x1 = x_data[:, 0]\n",
        "x2 = x_data[:, 1]\n",
        "# probs的shape调整成xx的样子\n",
        "probs = np.array(probs).reshape(xx.shape)\n",
        "plt.scatter(x1, x2, color=np.squeeze(Y_c))\n",
        "# 把坐标xx yy和对应的值probs放入contour<[‘kɑntʊr]>函数，给probs值为0.5的所有点上色  plt点show后 显示的是红蓝点的分界线\n",
        "plt.contour(xx, yy, probs, levels=[.5])\n",
        "plt.show()\n",
        "\n",
        "# 读入红蓝点，画出分割线，包含正则化\n",
        "# 不清楚的数据，建议print出来查看"
      ],
      "metadata": {
        "colab": {
          "base_uri": "https://localhost:8080/",
          "height": 283
        },
        "id": "KVva-DSvA4yw",
        "outputId": "4d32b8b6-1b3c-4ade-aeab-5d245da16a52"
      },
      "execution_count": 3,
      "outputs": [
        {
          "output_type": "stream",
          "name": "stdout",
          "text": [
            "*******predict*******\n"
          ]
        },
        {
          "output_type": "display_data",
          "data": {
            "text/plain": [
              "<Figure size 432x288 with 1 Axes>"
            ],
            "image/png": "[encoded data removed]"
          },
          "metadata": {
            "needs_background": "light"
          }
        }
      ]
    },
    {
      "cell_type": "code",
      "source": [],
      "metadata": {
        "id": "P-m-IvV3AloV"
      },
      "execution_count": 20,
      "outputs": []
    }
  ]
}