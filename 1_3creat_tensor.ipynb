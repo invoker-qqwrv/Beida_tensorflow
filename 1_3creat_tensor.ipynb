{
  "nbformat": 4,
  "nbformat_minor": 0,
  "metadata": {
    "colab": {
      "provenance": [],
      "authorship_tag": "ABX9TyOL9s4AZKVpqEc97cOoVxSV",
      "include_colab_link": true
    },
    "kernelspec": {
      "name": "python3",
      "display_name": "Python 3"
    },
    "language_info": {
      "name": "python"
    }
  },
  "cells": [
    {
      "cell_type": "markdown",
      "metadata": {
        "id": "view-in-github",
        "colab_type": "text"
      },
      "source": [
        "<a href=\"https://colab.research.google.com/github/invoker-qqwrv/Beida_tensorflow/blob/main/1_3creat_tensor.ipynb\" target=\"_parent\"><img src=\"https://colab.research.google.com/assets/colab-badge.svg\" alt=\"Open In Colab\"/></a>"
      ]
    },
    {
      "cell_type": "code",
      "execution_count": 1,
      "metadata": {
        "colab": {
          "base_uri": "https://localhost:8080/"
        },
        "id": "p4_OirlyVIEs",
        "outputId": "1cc976b3-b918-44c5-a36d-2ad182c301fd"
      },
      "outputs": [
        {
          "output_type": "stream",
          "name": "stdout",
          "text": [
            "tf.Tensor([1 5], shape=(2,), dtype=int64)\n"
          ]
        }
      ],
      "source": [
        "import tensorflow as tf\n",
        "# tf.constant(tensor的内容，dtype=数据类型)\n",
        "a=tf.constant([1,5],dtype=tf.int64)\n",
        "#以上是一阶tensor,内容是1和5，int型\n",
        "print(a)\n"
      ]
    },
    {
      "cell_type": "code",
      "source": [
        "print(a.dtype)\n",
        "print(a.shape)#逗号隔开几个数字，tensor就是几维的，这里逗号隔开了一个数字，说明tensor是一维的。2表示tensor里面有两个元素，也就是1,5"
      ],
      "metadata": {
        "colab": {
          "base_uri": "https://localhost:8080/"
        },
        "id": "c8LlMzsaWqK1",
        "outputId": "8577cf0e-1808-483b-a9c4-6352fa408748"
      },
      "execution_count": 3,
      "outputs": [
        {
          "output_type": "stream",
          "name": "stdout",
          "text": [
            "<dtype: 'int64'>\n",
            "(2,)\n"
          ]
        }
      ]
    },
    {
      "cell_type": "code",
      "source": [
        "#很多时候数据由numpy格式给出。可以转换成tensor格式\n",
        "# tf.convert_to_tensor（数据名,dtype=数据类型）\n",
        "import numpy as np\n",
        "a=np.arange(0,5)\n",
        "# 用于生成数组numpy.arange(start, stop, step, dtype = None)\n",
        "b=tf.convert_to_tensor(a,dtype=tf.int64)\n",
        "print(a)\n",
        "print(b)"
      ],
      "metadata": {
        "colab": {
          "base_uri": "https://localhost:8080/"
        },
        "id": "RFjkAtnJXXG6",
        "outputId": "d0590891-6baa-4b2b-a336-483a2577a675"
      },
      "execution_count": 5,
      "outputs": [
        {
          "output_type": "stream",
          "name": "stdout",
          "text": [
            "[0 1 2 3 4]\n",
            "tf.Tensor([0 1 2 3 4], shape=(5,), dtype=int64)\n"
          ]
        }
      ]
    },
    {
      "cell_type": "code",
      "source": [
        "a=tf.zeros([2,3])#两行三列的全0tensor\n",
        "print(a)"
      ],
      "metadata": {
        "colab": {
          "base_uri": "https://localhost:8080/"
        },
        "id": "xZ6wllwEbVNa",
        "outputId": "b5e921c3-87b0-42fb-b5f7-5c48f39fe51d"
      },
      "execution_count": 6,
      "outputs": [
        {
          "output_type": "stream",
          "name": "stdout",
          "text": [
            "tf.Tensor(\n",
            "[[0. 0. 0.]\n",
            " [0. 0. 0.]], shape=(2, 3), dtype=float32)\n"
          ]
        }
      ]
    },
    {
      "cell_type": "code",
      "source": [
        "b=tf.ones(2)#1 row 2columns all 1\n",
        "c=tf.fill([2,3],9)#two rows and three columns with all 9\n",
        "print(b)\n",
        "print(c)"
      ],
      "metadata": {
        "colab": {
          "base_uri": "https://localhost:8080/"
        },
        "id": "bbolWEpMb2IJ",
        "outputId": "c7caefd9-6f77-4d11-d1b0-a2193d385fed"
      },
      "execution_count": 7,
      "outputs": [
        {
          "output_type": "stream",
          "name": "stdout",
          "text": [
            "tf.Tensor([1. 1.], shape=(2,), dtype=float32)\n",
            "tf.Tensor(\n",
            "[[9 9 9]\n",
            " [9 9 9]], shape=(2, 3), dtype=int32)\n"
          ]
        }
      ]
    },
    {
      "cell_type": "code",
      "source": [
        "# Generate normally distributed random numbers\n",
        "# tf.random.normal(dimension,mean=mean value,stddev=standard )\n",
        "# 截断正态分布(Truncated_normal_distribution) 是在正态分布中界定随机变量进而从正态分布的分布函数中导出概率分布，在计量经济学中具有广泛的应用。\n",
        "# tf.random.truncated_normal(dimension,mean=mean value,stddev=standard)\n",
        "#可以保证均值在正负两倍标准差之内μ±2sigma\n",
        "print(tf.random.normal([2,3],mean=0.5,stddev=1))#2row 3column \n",
        "print(tf.random.truncated_normal([2,3],mean=0.5,stddev=1))#数据都在两倍标准差之内，取值更靠近mean value\n"
      ],
      "metadata": {
        "colab": {
          "base_uri": "https://localhost:8080/"
        },
        "id": "dyHLfxffcns8",
        "outputId": "5b1f13e3-02c2-4eed-ea8b-01ffe5cf80ab"
      },
      "execution_count": 11,
      "outputs": [
        {
          "output_type": "stream",
          "name": "stdout",
          "text": [
            "tf.Tensor(\n",
            "[[-0.6542336  -1.5736508   0.04745087]\n",
            " [-0.23727793  2.2229      0.38104782]], shape=(2, 3), dtype=float32)\n",
            "tf.Tensor(\n",
            "[[ 0.03879252  0.08024842  1.2683885 ]\n",
            " [ 0.8284681   1.3503892  -0.01950908]], shape=(2, 3), dtype=float32)\n"
          ]
        }
      ]
    },
    {
      "cell_type": "code",
      "source": [
        "# Evenly distributed均匀分布\n",
        "# tf.random.uniform(dimension,minval=minvalue,maxval=maxvalue)前闭后开区间\n",
        "print(tf.random.uniform([2,3],minval=0,maxval=1.1))"
      ],
      "metadata": {
        "colab": {
          "base_uri": "https://localhost:8080/"
        },
        "id": "GTAetm_3e0PL",
        "outputId": "134b3d0f-63d2-4244-e02e-5b61327041e6"
      },
      "execution_count": 14,
      "outputs": [
        {
          "output_type": "stream",
          "name": "stdout",
          "text": [
            "tf.Tensor(\n",
            "[[0.4873839  0.4671206  0.83308315]\n",
            " [1.0305551  0.5744416  0.7120046 ]], shape=(2, 3), dtype=float32)\n"
          ]
        }
      ]
    }
  ]
}