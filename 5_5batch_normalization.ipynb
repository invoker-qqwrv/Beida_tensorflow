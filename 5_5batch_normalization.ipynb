{
  "nbformat": 4,
  "nbformat_minor": 0,
  "metadata": {
    "colab": {
      "provenance": [],
      "authorship_tag": "ABX9TyMcVYkJ6bTW/CeXrzI0Iy3r",
      "include_colab_link": true
    },
    "kernelspec": {
      "name": "python3",
      "display_name": "Python 3"
    },
    "language_info": {
      "name": "python"
    }
  },
  "cells": [
    {
      "cell_type": "markdown",
      "metadata": {
        "id": "view-in-github",
        "colab_type": "text"
      },
      "source": [
        "<a href=\"https://colab.research.google.com/github/invoker-qqwrv/Beida_tensorflow/blob/main/5_5batch_normalization.ipynb\" target=\"_parent\"><img src=\"https://colab.research.google.com/assets/colab-badge.svg\" alt=\"Open In Colab\"/></a>"
      ]
    },
    {
      "cell_type": "code",
      "execution_count": null,
      "metadata": {
        "id": "vmvFRSSzZSYU"
      },
      "outputs": [],
      "source": [
        "# 标准化：使数据符合0均值，1为标准差的分布\n",
        "# 批标准化：对一小批数据（batch），做标准化处理\n",
        "# 神经网络对0附近的数据更敏感。但是随着网络层数的增加，特征数据会出现偏离0均值的情况。bn使数据重回正态分布\n",
        "# 保证网络非线性表达能力"
      ]
    },
    {
      "cell_type": "code",
      "source": [
        "tf.keras.layers.BatchNormalization()"
      ],
      "metadata": {
        "id": "cbyVsYAv42N8"
      },
      "execution_count": null,
      "outputs": []
    },
    {
      "cell_type": "code",
      "source": [
        "model=tf.keras.models.Sequential([Con2D(filter=6,kernel_size+(5,5),padding='same'),\n",
        "                BatchNormalization(),#添加BN层,在卷积层和激活层之间\n",
        "                Actication('relu'),\n",
        "                MaxPool2D(pool_size=(2,2),strides=2,padding='same'),\n",
        "                Dropout(0.2)dropout层\n",
        "                ])"
      ],
      "metadata": {
        "id": "oXgXDUHq4739"
      },
      "execution_count": null,
      "outputs": []
    }
  ]
}