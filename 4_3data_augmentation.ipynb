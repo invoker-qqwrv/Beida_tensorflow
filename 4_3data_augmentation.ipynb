{
  "nbformat": 4,
  "nbformat_minor": 0,
  "metadata": {
    "colab": {
      "provenance": [],
      "authorship_tag": "ABX9TyNLah0Aq5H3qA7oHoMg2+jC",
      "include_colab_link": true
    },
    "kernelspec": {
      "name": "python3",
      "display_name": "Python 3"
    },
    "language_info": {
      "name": "python"
    },
    "accelerator": "GPU",
    "gpuClass": "standard"
  },
  "cells": [
    {
      "cell_type": "markdown",
      "metadata": {
        "id": "view-in-github",
        "colab_type": "text"
      },
      "source": [
        "<a href=\"https://colab.research.google.com/github/invoker-qqwrv/Beida_tensorflow/blob/main/4_3data_augmentation.ipynb\" target=\"_parent\"><img src=\"https://colab.research.google.com/assets/colab-badge.svg\" alt=\"Open In Colab\"/></a>"
      ]
    },
    {
      "cell_type": "code",
      "execution_count": null,
      "metadata": {
        "id": "uKx_kWtSwftP"
      },
      "outputs": [],
      "source": [
        "# 数据增强就是对图像的简单形变，用来应对因为拍照角度不同引起的图像变形。\n",
        "# 数据增强函数：\n",
        "# image_gen_train=tf.keras.preprocessing.image.ImageDataGenerator(\n",
        "#     rescale=所有数据将乘以该数值\n",
        "#     rotation_range=随机旋转角度范围\n",
        "#     width_shift_range=随机宽度偏移量\n",
        "#     height_shift_range=随机高度偏移量\n",
        "#     水平翻转：horizontal_flip=是否随机水平翻转\n",
        "#     随机缩放：zoom_range=随机缩放的范围[1-n,1+n]\n",
        "# )\n",
        "# image_gen_train.fit(x_train)因为这里的fit需要输入一个四维数据，所以要对x_train进行reshape"
      ]
    },
    {
      "cell_type": "code",
      "source": [
        "# 显示原始图像和增强后的图像\n",
        "import tensorflow as tf\n",
        "from matplotlib import pyplot as plt\n",
        "from tensorflow.keras.preprocessing.image import ImageDataGenerator\n",
        "import numpy as np\n",
        "\n",
        "mnist=tf.keras.datasets.fashion_mnist\n",
        "(x_train,y_train),(x_test,y_test)=mnist.load_data()\n",
        "x_train = x_train.reshape(x_train.shape[0],28,28,1)#给x_train增加维度，使数据和网络结构匹配。就是说和真是的图片能一致\n",
        "x_test = x_test.reshape(x_test.shape[0],28,28,1)\n",
        "\n",
        "image_gen_train = ImageDataGenerator(\n",
        "    rescale=1. / 255,#如果是图像，分母为255，相当于归一化\n",
        "    rotation_range=45,#随机45度旋转\n",
        "    width_shift_range=.15,#宽度便宜\n",
        "    height_shift_range=.15,#高度偏移\n",
        "    horizontal_flip=True,#水平翻转\n",
        "    zoom_range=0.5#将图像随机缩放阈量的一半\n",
        "\n",
        ")\n",
        "image_gen_train.fit(x_train)#把x_train送入数据增强操作\n"
      ],
      "metadata": {
        "id": "3NY3buNGyTc5",
        "colab": {
          "base_uri": "https://localhost:8080/"
        },
        "outputId": "27168429-e170-4293-f4f5-5dd0a304c452"
      },
      "execution_count": 3,
      "outputs": [
        {
          "output_type": "stream",
          "name": "stdout",
          "text": [
            "Downloading data from https://storage.googleapis.com/tensorflow/tf-keras-datasets/train-labels-idx1-ubyte.gz\n",
            "29515/29515 [==============================] - 0s 0us/step\n",
            "Downloading data from https://storage.googleapis.com/tensorflow/tf-keras-datasets/train-images-idx3-ubyte.gz\n",
            "26421880/26421880 [==============================] - 0s 0us/step\n",
            "Downloading data from https://storage.googleapis.com/tensorflow/tf-keras-datasets/t10k-labels-idx1-ubyte.gz\n",
            "5148/5148 [==============================] - 0s 0us/step\n",
            "Downloading data from https://storage.googleapis.com/tensorflow/tf-keras-datasets/t10k-images-idx3-ubyte.gz\n",
            "4422102/4422102 [==============================] - 0s 0us/step\n"
          ]
        }
      ]
    },
    {
      "cell_type": "code",
      "source": [
        "model = tf.keras.models.Sequential([\n",
        "    tf.keras.layers.Flatten(),\n",
        "    tf.keras.layers.Dense(128, activation='relu'),\n",
        "    tf.keras.layers.Dense(10, activation='softmax')\n",
        "])\n",
        "\n",
        "model.compile(optimizer='adam',\n",
        "              loss=tf.keras.losses.SparseCategoricalCrossentropy(from_logits=False),\n",
        "              metrics=['sparse_categorical_accuracy'])\n",
        "\n",
        "model.fit(image_gen_train.flow(x_train, y_train, batch_size=32), epochs=5, validation_data=(x_test, y_test),\n",
        "          validation_freq=1)\n",
        "#这里以flow形式按照batch打包后执行训练\n",
        "model.summary()"
      ],
      "metadata": {
        "colab": {
          "base_uri": "https://localhost:8080/"
        },
        "id": "hUcJnpTk3V77",
        "outputId": "a641040b-8ed5-40ac-a75d-263a8d1f03ec"
      },
      "execution_count": 4,
      "outputs": [
        {
          "output_type": "stream",
          "name": "stdout",
          "text": [
            "Epoch 1/5\n",
            "1875/1875 [==============================] - 25s 13ms/step - loss: 1.4881 - sparse_categorical_accuracy: 0.4656 - val_loss: 164.8000 - val_sparse_categorical_accuracy: 0.4966\n",
            "Epoch 2/5\n",
            "1875/1875 [==============================] - 23s 13ms/step - loss: 1.2660 - sparse_categorical_accuracy: 0.5439 - val_loss: 136.7861 - val_sparse_categorical_accuracy: 0.5817\n",
            "Epoch 3/5\n",
            "1875/1875 [==============================] - 23s 12ms/step - loss: 1.1913 - sparse_categorical_accuracy: 0.5666 - val_loss: 179.0669 - val_sparse_categorical_accuracy: 0.5567\n",
            "Epoch 4/5\n",
            "1875/1875 [==============================] - 23s 12ms/step - loss: 1.1450 - sparse_categorical_accuracy: 0.5827 - val_loss: 185.2685 - val_sparse_categorical_accuracy: 0.5085\n",
            "Epoch 5/5\n",
            "1875/1875 [==============================] - 25s 13ms/step - loss: 1.1208 - sparse_categorical_accuracy: 0.5921 - val_loss: 181.9216 - val_sparse_categorical_accuracy: 0.5219\n",
            "Model: \"sequential\"\n",
            "_________________________________________________________________\n",
            " Layer (type)                Output Shape              Param #   \n",
            "=================================================================\n",
            " flatten (Flatten)           (None, None)              0         \n",
            "                                                                 \n",
            " dense (Dense)               (None, 128)               100480    \n",
            "                                                                 \n",
            " dense_1 (Dense)             (None, 10)                1290      \n",
            "                                                                 \n",
            "=================================================================\n",
            "Total params: 101,770\n",
            "Trainable params: 101,770\n",
            "Non-trainable params: 0\n",
            "_________________________________________________________________\n"
          ]
        }
      ]
    }
  ]
}