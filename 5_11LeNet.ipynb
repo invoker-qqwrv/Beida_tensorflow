{
  "nbformat": 4,
  "nbformat_minor": 0,
  "metadata": {
    "colab": {
      "provenance": [],
      "authorship_tag": "ABX9TyPi1KgbPrrXOay6ri8H8nCa",
      "include_colab_link": true
    },
    "kernelspec": {
      "name": "python3",
      "display_name": "Python 3"
    },
    "language_info": {
      "name": "python"
    },
    "accelerator": "GPU",
    "gpuClass": "standard"
  },
  "cells": [
    {
      "cell_type": "markdown",
      "metadata": {
        "id": "view-in-github",
        "colab_type": "text"
      },
      "source": [
        "<a href=\"https://colab.research.google.com/github/invoker-qqwrv/Beida_tensorflow/blob/main/5_11LeNet.ipynb\" target=\"_parent\"><img src=\"https://colab.research.google.com/assets/colab-badge.svg\" alt=\"Open In Colab\"/></a>"
      ]
    },
    {
      "cell_type": "code",
      "execution_count": null,
      "metadata": {
        "id": "G1B8OQ2OsOIb"
      },
      "outputs": [],
      "source": [
        "# 1998年。Yann lecun通过共享卷积核减少了网络的参数。"
      ]
    },
    {
      "cell_type": "code",
      "source": [
        "import tensorflow as tf\n",
        "import os\n",
        "import numpy as np\n",
        "from matplotlib import pyplot as plt\n",
        "from tensorflow.keras.layers import Conv2D, BatchNormalization, Activation, MaxPool2D, Dropout, Flatten, Dense\n",
        "from tensorflow.keras import Model\n",
        "\n",
        "np.set_printoptions(threshold=np.inf)\n",
        "\n",
        "cifar10 = tf.keras.datasets.cifar10\n",
        "(x_train, y_train), (x_test, y_test) = cifar10.load_data()\n",
        "x_train, x_test = x_train / 255.0, x_test / 255.0\n",
        "\n",
        "\n",
        "class LeNet5(Model):\n",
        "    def __init__(self):\n",
        "        super(LeNet5, self).__init__()\n",
        "        self.c1 = Conv2D(filters=6, kernel_size=(5, 5),\n",
        "                         activation='sigmoid')\n",
        "        self.p1 = MaxPool2D(pool_size=(2, 2), strides=2)\n",
        "\n",
        "        self.c2 = Conv2D(filters=16, kernel_size=(5, 5),\n",
        "                         activation='sigmoid')\n",
        "        self.p2 = MaxPool2D(pool_size=(2, 2), strides=2)\n",
        "\n",
        "        self.flatten = Flatten()\n",
        "        self.f1 = Dense(120, activation='sigmoid')\n",
        "        self.f2 = Dense(84, activation='sigmoid')\n",
        "        self.f3 = Dense(10, activation='softmax')\n",
        "\n",
        "    def call(self, x):\n",
        "        x = self.c1(x)\n",
        "        x = self.p1(x)\n",
        "\n",
        "        x = self.c2(x)\n",
        "        x = self.p2(x)\n",
        "\n",
        "        x = self.flatten(x)\n",
        "        x = self.f1(x)\n",
        "        x = self.f2(x)\n",
        "        y = self.f3(x)\n",
        "        return y\n",
        "\n",
        "\n",
        "model = LeNet5()\n",
        "\n",
        "model.compile(optimizer='adam',\n",
        "              loss=tf.keras.losses.SparseCategoricalCrossentropy(from_logits=False),\n",
        "              metrics=['sparse_categorical_accuracy'])\n",
        "\n",
        "checkpoint_save_path = \"./checkpoint/LeNet5.ckpt\"\n",
        "if os.path.exists(checkpoint_save_path + '.index'):\n",
        "    print('-------------load the model-----------------')\n",
        "    model.load_weights(checkpoint_save_path)\n",
        "\n",
        "cp_callback = tf.keras.callbacks.ModelCheckpoint(filepath=checkpoint_save_path,\n",
        "                    save_weights_only=True,\n",
        "                    save_best_only=True)\n",
        "\n",
        "history = model.fit(x_train, y_train, batch_size=32, epochs=5, validation_data=(x_test, y_test), validation_freq=1,\n",
        "                    callbacks=[cp_callback])\n",
        "model.summary()\n",
        "\n",
        "# print(model.trainable_variables)\n",
        "file = open('./weights.txt', 'w')\n",
        "for v in model.trainable_variables:\n",
        "    file.write(str(v.name) + '\\n')\n",
        "    file.write(str(v.shape) + '\\n')\n",
        "    file.write(str(v.numpy()) + '\\n')\n",
        "file.close()\n",
        "\n",
        "###############################################    show   ###############################################\n",
        "\n",
        "# 显示训练集和验证集的acc和loss曲线\n",
        "acc = history.history['sparse_categorical_accuracy']\n",
        "val_acc = history.history['val_sparse_categorical_accuracy']\n",
        "loss = history.history['loss']\n",
        "val_loss = history.history['val_loss']\n",
        "\n",
        "plt.subplot(1, 2, 1)\n",
        "plt.plot(acc, label='Training Accuracy')\n",
        "plt.plot(val_acc, label='Validation Accuracy')\n",
        "plt.title('Training and Validation Accuracy')\n",
        "plt.legend()\n",
        "\n",
        "plt.subplot(1, 2, 2)\n",
        "plt.plot(loss, label='Training Loss')\n",
        "plt.plot(val_loss, label='Validation Loss')\n",
        "plt.title('Training and Validation Loss')\n",
        "plt.legend()\n",
        "plt.show()\n"
      ],
      "metadata": {
        "colab": {
          "base_uri": "https://localhost:8080/",
          "height": 1000
        },
        "id": "e9AyvGeXzE11",
        "outputId": "f37d5bfc-327d-4611-dfbd-3552009d9390"
      },
      "execution_count": 1,
      "outputs": [
        {
          "output_type": "stream",
          "name": "stdout",
          "text": [
            "Downloading data from https://www.cs.toronto.edu/~kriz/cifar-10-python.tar.gz\n",
            "170498071/170498071 [==============================] - 17s 0us/step\n",
            "Epoch 1/5\n",
            "1563/1563 [==============================] - 16s 5ms/step - loss: 2.0621 - sparse_categorical_accuracy: 0.2266 - val_loss: 1.9238 - val_sparse_categorical_accuracy: 0.2931\n",
            "Epoch 2/5\n",
            "1563/1563 [==============================] - 6s 4ms/step - loss: 1.8351 - sparse_categorical_accuracy: 0.3286 - val_loss: 1.7153 - val_sparse_categorical_accuracy: 0.3792\n",
            "Epoch 3/5\n",
            "1563/1563 [==============================] - 7s 4ms/step - loss: 1.6603 - sparse_categorical_accuracy: 0.3939 - val_loss: 1.5889 - val_sparse_categorical_accuracy: 0.4178\n",
            "Epoch 4/5\n",
            "1563/1563 [==============================] - 7s 4ms/step - loss: 1.5655 - sparse_categorical_accuracy: 0.4293 - val_loss: 1.5189 - val_sparse_categorical_accuracy: 0.4451\n",
            "Epoch 5/5\n",
            "1563/1563 [==============================] - 6s 4ms/step - loss: 1.4932 - sparse_categorical_accuracy: 0.4575 - val_loss: 1.4584 - val_sparse_categorical_accuracy: 0.4753\n",
            "Model: \"le_net5\"\n",
            "_________________________________________________________________\n",
            " Layer (type)                Output Shape              Param #   \n",
            "=================================================================\n",
            " conv2d (Conv2D)             multiple                  456       \n",
            "                                                                 \n",
            " max_pooling2d (MaxPooling2D  multiple                 0         \n",
            " )                                                               \n",
            "                                                                 \n",
            " conv2d_1 (Conv2D)           multiple                  2416      \n",
            "                                                                 \n",
            " max_pooling2d_1 (MaxPooling  multiple                 0         \n",
            " 2D)                                                             \n",
            "                                                                 \n",
            " flatten (Flatten)           multiple                  0         \n",
            "                                                                 \n",
            " dense (Dense)               multiple                  48120     \n",
            "                                                                 \n",
            " dense_1 (Dense)             multiple                  10164     \n",
            "                                                                 \n",
            " dense_2 (Dense)             multiple                  850       \n",
            "                                                                 \n",
            "=================================================================\n",
            "Total params: 62,006\n",
            "Trainable params: 62,006\n",
            "Non-trainable params: 0\n",
            "_________________________________________________________________\n"
          ]
        },
        {
          "output_type": "display_data",
          "data": {
            "text/plain": [
              "<Figure size 432x288 with 2 Axes>"
            ],
            "image/png": "[encoded data removed]"
          },
          "metadata": {
            "needs_background": "light"
          }
        }
      ]
    }
  ]
}