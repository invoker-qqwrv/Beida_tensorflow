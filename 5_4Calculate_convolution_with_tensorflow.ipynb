{
  "nbformat": 4,
  "nbformat_minor": 0,
  "metadata": {
    "colab": {
      "provenance": [],
      "authorship_tag": "ABX9TyPEYbIVBEUl0yGCcnEe86XN",
      "include_colab_link": true
    },
    "kernelspec": {
      "name": "python3",
      "display_name": "Python 3"
    },
    "language_info": {
      "name": "python"
    }
  },
  "cells": [
    {
      "cell_type": "markdown",
      "metadata": {
        "id": "view-in-github",
        "colab_type": "text"
      },
      "source": [
        "<a href=\"https://colab.research.google.com/github/invoker-qqwrv/Beida_tensorflow/blob/main/5_4Calculate_convolution_with_tensorflow.ipynb\" target=\"_parent\"><img src=\"https://colab.research.google.com/assets/colab-badge.svg\" alt=\"Open In Colab\"/></a>"
      ]
    },
    {
      "cell_type": "code",
      "execution_count": null,
      "metadata": {
        "id": "XJxf9DubSy-i"
      },
      "outputs": [],
      "source": [
        "# # tf描述卷积层\n",
        "# tf.keras.layers.Conv2D(filter=卷积核的个数，\n",
        "#            kernel_size=卷积核尺寸，#正方形写核长总数，或（核高h，核宽w）元组形式\n",
        "#            strides=滑动步长，#横纵向相同写步长整数，或（纵向步长h，横向步长w）默认为1\n",
        "#            padding=“same\"or‘valid'，#全0填充是same，不适用是valid\n",
        "#            activation=“relu\"or“sigmoid\"or“tanh\"or“softmax\"等，如果有bn此处不写\n",
        "#            input_shape=（高，宽，通道数）#输入特征图的维度，可以省略\n",
        "#           )"
      ]
    },
    {
      "cell_type": "code",
      "source": [
        "# 接下来是一个实例，用这种关键字传递的形式，代码可读性更强\n",
        "model=tf.keras.models.Sequential([Conv2D(filters=6),kernel_size=(5,5),padding='valid',activation='sigmoid',\n",
        "                                  Maxpool2D(pool_size=(2,2),strides=2)]),\n",
        "                接下来以重复的方式写完所有的卷积层。\n",
        "                Flattern(),\n",
        "                Dense(10,activation='softmax')"
      ],
      "metadata": {
        "id": "eIDl6DV4YBQ4"
      },
      "execution_count": null,
      "outputs": []
    }
  ]
}