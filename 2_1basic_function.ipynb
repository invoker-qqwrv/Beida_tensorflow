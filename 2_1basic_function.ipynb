{
  "nbformat": 4,
  "nbformat_minor": 0,
  "metadata": {
    "colab": {
      "provenance": [],
      "authorship_tag": "ABX9TyP89rvQziDITljBBhq82Z6D",
      "include_colab_link": true
    },
    "kernelspec": {
      "name": "python3",
      "display_name": "Python 3"
    },
    "language_info": {
      "name": "python"
    }
  },
  "cells": [
    {
      "cell_type": "markdown",
      "metadata": {
        "id": "view-in-github",
        "colab_type": "text"
      },
      "source": [
        "<a href=\"https://colab.research.google.com/github/invoker-qqwrv/Beida_tensorflow/blob/main/2_1basic_function.ipynb\" target=\"_parent\"><img src=\"https://colab.research.google.com/assets/colab-badge.svg\" alt=\"Open In Colab\"/></a>"
      ]
    },
    {
      "cell_type": "code",
      "execution_count": 2,
      "metadata": {
        "colab": {
          "base_uri": "https://localhost:8080/"
        },
        "id": "M-sc2Yl_21jf",
        "outputId": "aafd47a2-3bbc-4cf9-e7cb-88bd43b3f7c2"
      },
      "outputs": [
        {
          "output_type": "stream",
          "name": "stdout",
          "text": [
            "tf.Tensor([4 5 3 4 5], shape=(5,), dtype=int32)\n"
          ]
        }
      ],
      "source": [
        "# tf.where(条件语句，真返回a，假返回b)\n",
        "import tensorflow as tf\n",
        "a=tf.constant([1,2,3,4,5])\n",
        "b=tf.constant([4,5,2,4,1])\n",
        "c=tf.where(tf.greater(a,b),a,b)\n",
        "print(c)\n"
      ]
    },
    {
      "cell_type": "code",
      "source": [
        "#np.random.RandomState.rand(dimension)返回一个[0，1)之间的随机数\n",
        "# 维度为空，返回一个标量\n",
        "import numpy as np\n",
        "rdm=np.random.RandomState(seed=1)#seed为常数，每次生成随机数相同\n",
        "a=rdm.rand()#返回随机标量\n",
        "b=rdm.rand(2,3)#返回维度为两行三列随机数矩阵\n",
        "print(a)\n",
        "print(b)"
      ],
      "metadata": {
        "colab": {
          "base_uri": "https://localhost:8080/"
        },
        "id": "11SBCracAIZ_",
        "outputId": "d9fbb47a-86e1-4416-af57-730847eb3727"
      },
      "execution_count": 4,
      "outputs": [
        {
          "output_type": "stream",
          "name": "stdout",
          "text": [
            "0.417022004702574\n",
            "[[7.20324493e-01 1.14374817e-04 3.02332573e-01]\n",
            " [1.46755891e-01 9.23385948e-02 1.86260211e-01]]\n"
          ]
        }
      ]
    },
    {
      "cell_type": "code",
      "source": [
        "# np.vstack(数组1，数组2）将两个数组按垂直方向叠加\n",
        "a=np.array([1,2,3])\n",
        "b=np.array([4,5,6])\n",
        "c=np.vstack((a,b))#注意这里有两个括号\n",
        "print(c)\n",
        "# 变成了2维数组"
      ],
      "metadata": {
        "colab": {
          "base_uri": "https://localhost:8080/"
        },
        "id": "TF1BI8C6BCCG",
        "outputId": "7789c739-db01-4de9-ed6e-585e88bd6d19"
      },
      "execution_count": 8,
      "outputs": [
        {
          "output_type": "stream",
          "name": "stdout",
          "text": [
            "[[1 2 3]\n",
            " [4 5 6]]\n"
          ]
        }
      ]
    },
    {
      "cell_type": "code",
      "source": [
        "# np.mgrid[起始值：结束值：步长]多组可以接着写，中间用，隔开.每一组是一个维度。\n",
        "# 第一组表示竖着的，第二组表示横向的\n",
        "# 第一组决定有多少行，第二组决定有多少列\n",
        "x,y=np.mgrid[1:3:1,2:4:0.5]\n",
        "print(x)\n",
        "print(y)\n",
        "# x.ravel()将x变为一维数组\n"
      ],
      "metadata": {
        "colab": {
          "base_uri": "https://localhost:8080/"
        },
        "id": "mrRMyeAkD1vM",
        "outputId": "c866eb59-6ddb-4813-a34b-974d9d28e7dd"
      },
      "execution_count": 9,
      "outputs": [
        {
          "output_type": "stream",
          "name": "stdout",
          "text": [
            "[[1. 1. 1. 1.]\n",
            " [2. 2. 2. 2.]]\n",
            "[[2.  2.5 3.  3.5]\n",
            " [2.  2.5 3.  3.5]]\n"
          ]
        }
      ]
    },
    {
      "cell_type": "code",
      "source": [
        "# np.c_[]使返回的间隔数值点配对\n",
        "# x.ravel()将x变为一维数组。\n",
        "grid=np.c_[x.ravel(), y.ravel()]\n",
        "print(grid)"
      ],
      "metadata": {
        "colab": {
          "base_uri": "https://localhost:8080/"
        },
        "id": "5rhXWs6yIK7L",
        "outputId": "b30f6564-31e7-4a52-863b-de6710db7362"
      },
      "execution_count": 10,
      "outputs": [
        {
          "output_type": "stream",
          "name": "stdout",
          "text": [
            "[[1.  2. ]\n",
            " [1.  2.5]\n",
            " [1.  3. ]\n",
            " [1.  3.5]\n",
            " [2.  2. ]\n",
            " [2.  2.5]\n",
            " [2.  3. ]\n",
            " [2.  3.5]]\n"
          ]
        }
      ]
    },
    {
      "cell_type": "code",
      "source": [],
      "metadata": {
        "id": "V2pVv4AaHvar"
      },
      "execution_count": null,
      "outputs": []
    }
  ]
}