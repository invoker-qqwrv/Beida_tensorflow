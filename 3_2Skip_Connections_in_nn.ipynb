{
  "nbformat": 4,
  "nbformat_minor": 0,
  "metadata": {
    "colab": {
      "provenance": [],
      "authorship_tag": "ABX9TyPTIn5/4O/uT9PHT6lRZ3ZC",
      "include_colab_link": true
    },
    "kernelspec": {
      "name": "python3",
      "display_name": "Python 3"
    },
    "language_info": {
      "name": "python"
    }
  },
  "cells": [
    {
      "cell_type": "markdown",
      "metadata": {
        "id": "view-in-github",
        "colab_type": "text"
      },
      "source": [
        "<a href=\"https://colab.research.google.com/github/invoker-qqwrv/Beida_tensorflow/blob/main/3_2Skip_Connections_in_nn.ipynb\" target=\"_parent\"><img src=\"https://colab.research.google.com/assets/colab-badge.svg\" alt=\"Open In Colab\"/></a>"
      ]
    },
    {
      "cell_type": "code",
      "execution_count": null,
      "metadata": {
        "id": "DuaudhPQXkL7"
      },
      "outputs": [],
      "source": [
        "# kip Connections（或 Shortcut Connections）\n",
        "# 跳过连接，会跳过神经网络中的某些层，并将一层的输出作为下一层的输入。\n",
        "# 这时可以用class搭建,封装一个神经网络结构"
      ]
    }
  ]
}