{
  "nbformat": 4,
  "nbformat_minor": 0,
  "metadata": {
    "colab": {
      "provenance": [],
      "authorship_tag": "ABX9TyO9fdt6z3ZtFf69miEyfRHF",
      "include_colab_link": true
    },
    "kernelspec": {
      "name": "python3",
      "display_name": "Python 3"
    },
    "language_info": {
      "name": "python"
    }
  },
  "cells": [
    {
      "cell_type": "markdown",
      "metadata": {
        "id": "view-in-github",
        "colab_type": "text"
      },
      "source": [
        "<a href=\"https://colab.research.google.com/github/invoker-qqwrv/Beida_tensorflow/blob/main/1_5commonly_used_function.ipynb\" target=\"_parent\"><img src=\"https://colab.research.google.com/assets/colab-badge.svg\" alt=\"Open In Colab\"/></a>"
      ]
    },
    {
      "cell_type": "code",
      "source": [
        "# tf.GradientTape()\n",
        "# with---\n",
        "# enumerate()\n",
        "# assign_sub()\n",
        "# tf.one_hot()\n",
        "# tf.nn.softmax()\n",
        "#tf,argmax"
      ],
      "metadata": {
        "id": "ORxtd4QSoKqm"
      },
      "execution_count": 5,
      "outputs": []
    },
    {
      "cell_type": "code",
      "execution_count": 2,
      "metadata": {
        "colab": {
          "base_uri": "https://localhost:8080/"
        },
        "id": "vl-hUy4ahaiB",
        "outputId": "98ac58e3-9c22-4c11-dc80-9c79887cec1c"
      },
      "outputs": [
        {
          "output_type": "stream",
          "name": "stdout",
          "text": [
            "tf.Tensor(6.0, shape=(), dtype=float32)\n"
          ]
        }
      ],
      "source": [
        "import tensorflow as tf\n",
        "# tf.GradientTape \n",
        "# structure:\n",
        "# with记录计算过程，gradient求出tensor's dimension\n",
        "# with tf.GradientTape() as tape:\n",
        "#   若干过程\n",
        "# grad=tape.gradient(函数，对谁求导)\n",
        "with tf.GradientTape() as tape:\n",
        "  w=tf.Variable(tf.constant(3.0))\n",
        "  loss=tf.pow(w,2)\n",
        "grad=tape.gradient(loss,w)\n",
        "print(grad)"
      ]
    },
    {
      "cell_type": "code",
      "source": [
        "# enumerate函数\n",
        "a=['aaa','bbb','ccc']\n",
        "for i,element in enumerate(a):\n",
        "  print(i,element)#i 和element配对"
      ],
      "metadata": {
        "colab": {
          "base_uri": "https://localhost:8080/"
        },
        "id": "uoAeJMiMjzut",
        "outputId": "d1bd6c8f-4098-4985-e8d8-49cb99549d23"
      },
      "execution_count": 4,
      "outputs": [
        {
          "output_type": "stream",
          "name": "stdout",
          "text": [
            "0 aaa\n",
            "1 bbb\n",
            "2 ccc\n"
          ]
        }
      ]
    },
    {
      "cell_type": "code",
      "source": [
        "# tf.one_hot在分类问题中用这个表示标签、可以将带转换数据转换为one hot形式输出\n",
        "# tf.one_hot(等待转换数据，depth=几分类)\n",
        "# 1表示是。0表示非\n",
        "classes=3#三分类\n",
        "labels=tf.constant([1,0,2])#输入函数最小值为0最大值为2\n",
        "#输出为onehot形式\n",
        "output=tf.one_hot(labels,depth=classes)\n",
        "print(output)\n",
        "#按row来算，第一行是第一个数为1，第二行第0个数为1-------"
      ],
      "metadata": {
        "colab": {
          "base_uri": "https://localhost:8080/"
        },
        "id": "QY5u2m-olsLM",
        "outputId": "11886dab-5ada-479e-b456-7b3199b9961c"
      },
      "execution_count": 5,
      "outputs": [
        {
          "output_type": "stream",
          "name": "stdout",
          "text": [
            "tf.Tensor(\n",
            "[[0. 1. 0.]\n",
            " [1. 0. 0.]\n",
            " [0. 0. 1.]], shape=(3, 3), dtype=float32)\n"
          ]
        }
      ]
    },
    {
      "cell_type": "code",
      "source": [
        "# 对于分类问题，神经网络前向传播后，得到每一个分类的可能性。\n",
        "# 这些输出只有符合概率分布才能于onehot label做对比\n",
        "# 此时可用tf.nn.softmax()使输出符合概率分布。\n",
        "y=tf.constant([1.01,2.01,-0.66])#第一次的357报错可能是输入的数不行。这个也是由要求的\n",
        "y_pro=tf.nn.softmax(y)\n",
        "print(y_pro)\n"
      ],
      "metadata": {
        "colab": {
          "base_uri": "https://localhost:8080/"
        },
        "id": "JZ4uBLb4nokj",
        "outputId": "aaaea286-c7f5-4ac5-9c7b-7910a4d14e54"
      },
      "execution_count": 8,
      "outputs": [
        {
          "output_type": "stream",
          "name": "stdout",
          "text": [
            "tf.Tensor([0.25598174 0.69583046 0.04818781], shape=(3,), dtype=float32)\n"
          ]
        }
      ]
    },
    {
      "cell_type": "code",
      "source": [
        "# assign_sub函数\n",
        "# 赋值操作，更新参数值并且返回\n",
        "# 调用该函数前，先用tf.Variable定义变量为可训练（可自更新）\n",
        "# w.assign_sub(w要自减的内容)\n",
        "w=tf.Variable(4)\n",
        "w.assign_sub(1)#w=w-1\n",
        "print(w)"
      ],
      "metadata": {
        "colab": {
          "base_uri": "https://localhost:8080/"
        },
        "id": "KCaAoXWHpugd",
        "outputId": "3de443db-58ea-4217-b0cc-e092284df789"
      },
      "execution_count": 9,
      "outputs": [
        {
          "output_type": "stream",
          "name": "stdout",
          "text": [
            "<tf.Variable 'Variable:0' shape=() dtype=int32, numpy=3>\n"
          ]
        }
      ]
    },
    {
      "cell_type": "code",
      "source": [
        "#tf,argmax返回"
      ],
      "metadata": {
        "id": "ekGI8CdBqh9o"
      },
      "execution_count": null,
      "outputs": []
    }
  ]
}